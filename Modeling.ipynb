{
  "cells": [
    {
      "cell_type": "markdown",
      "metadata": {},
      "source": [
        "Просьба сначала открыть ноутбук EDA.ipynb, так как в нем происходит обработка и анализ данных"
      ]
    },
    {
      "cell_type": "markdown",
      "metadata": {
        "id": "lLbBdAXC8URe"
      },
      "source": [
        "## Import"
      ]
    },
    {
      "cell_type": "code",
      "execution_count": null,
      "metadata": {
        "colab": {
          "base_uri": "https://localhost:8080/"
        },
        "id": "nzJF8PlA4Unn",
        "outputId": "24591301-4c0b-48eb-f068-ad0c955dab1d"
      },
      "outputs": [],
      "source": [
        "!pip install catboost"
      ]
    },
    {
      "cell_type": "code",
      "execution_count": 107,
      "metadata": {
        "id": "bbn5I1hG7rUG"
      },
      "outputs": [],
      "source": [
        "import warnings\n",
        "import pandas as pd\n",
        "import numpy as np\n",
        "import pickle\n",
        "\n",
        "import optuna\n",
        "\n",
        "from sklearn.model_selection import train_test_split\n",
        "from sklearn.linear_model import LogisticRegression\n",
        "from sklearn.tree import DecisionTreeClassifier\n",
        "from sklearn.ensemble import RandomForestClassifier\n",
        "from sklearn.neural_network import MLPClassifier\n",
        "from sklearn.preprocessing import OneHotEncoder, LabelEncoder\n",
        "from sklearn.metrics import balanced_accuracy_score, accuracy_score, f1_score, recall_score, precision_score\n",
        "\n",
        "from catboost import CatBoostClassifier\n",
        "\n",
        "import seaborn as sns\n",
        "import matplotlib.pyplot as plt"
      ]
    },
    {
      "cell_type": "markdown",
      "metadata": {
        "id": "OFn11ogJA8hI"
      },
      "source": [
        "## Function"
      ]
    },
    {
      "cell_type": "code",
      "execution_count": 108,
      "metadata": {
        "id": "ExPlCa1-CARz"
      },
      "outputs": [],
      "source": [
        "def metrics(X_test, y_test):\n",
        "  y_lr_pred = lr_model.predict(X_test)\n",
        "  y_dec_pred = dec_tree.predict(X_test)\n",
        "  y_rand_pred = rand_forest.predict(X_test)\n",
        "  y_cat_pred = cat_boost.predict(X_test)\n",
        "  y_mlp_pred = mlp.predict(X_test)\n",
        "\n",
        "  y_pred = {\n",
        "        'Logistic Regression': y_lr_pred,\n",
        "        'Decision Tree': y_dec_pred,\n",
        "        'Random Forest': y_rand_pred,\n",
        "        'CatBoost': y_cat_pred,\n",
        "        'MLP': y_mlp_pred\n",
        "    }\n",
        "  \n",
        "  for model_name, preds in y_pred.items():\n",
        "      print(f'{model_name} - balanced accuracy:', balanced_accuracy_score(y_test, preds))\n",
        "      print(f'{model_name} -  accuracy:', accuracy_score(y_test, preds))\n",
        "      print(f'{model_name} -  f1:', f1_score(y_test, preds))\n",
        "      print(f'{model_name} -  recall:', recall_score(y_test, preds))\n",
        "      print(f'{model_name} -  precision:', precision_score(y_test, preds))\n",
        "      print('\\n')\n",
        "\n",
        "def metrics_age(X_test, y_test):\n",
        "  y_lr_pred = lr_model_age.predict(X_test)\n",
        "  y_dec_pred = dec_tree_age.predict(X_test)\n",
        "  y_rand_pred = rand_forest_age.predict(X_test)\n",
        "  y_cat_pred = cat_boost_age.predict(X_test)\n",
        "  y_mlp_pred = mlp_age.predict(X_test)\n",
        "\n",
        "  y_pred = {\n",
        "        'Logistic Regression': y_lr_pred,\n",
        "        'Decision Tree': y_dec_pred,\n",
        "        'Random Forest': y_rand_pred,\n",
        "        'CatBoost': y_cat_pred,\n",
        "        'MLP': y_mlp_pred\n",
        "    }\n",
        "  \n",
        "  for model_name, preds in y_pred.items():\n",
        "      print(f'{model_name} - balanced accuracy:', balanced_accuracy_score(y_test, preds))\n",
        "      print(f'{model_name} -  accuracy:', accuracy_score(y_test, preds))\n",
        "      print(f'{model_name} -  f1:', f1_score(y_test, preds,average='weighted'))\n",
        "      print(f'{model_name} -  recall:', recall_score(y_test, preds, average='weighted'))\n",
        "      print(f'{model_name} -  precision:', precision_score(y_test, preds, average='weighted'))\n",
        "      print('\\n')\n",
        "\n",
        "\n",
        "def optuna_optimize(trial):\n",
        "    for value in MODEL:\n",
        "        if MODEL_TYPE == 'LogisticRegression':\n",
        "            params = paramslog(trial)\n",
        "            model = linear_model.LogisticRegression(**params)\n",
        "\n",
        "        elif MODEL_TYPE == 'DecisionTreeClassifier':\n",
        "            params = params_dec(trial)\n",
        "            model = DecisionTreeClassifier(**params)\n",
        "\n",
        "        elif MODEL_TYPE == 'RandomForestClassifier':\n",
        "            params = params_rand(trial)\n",
        "            model = RandomForestClassifier(**params)\n",
        "\n",
        "        elif MODEL_TYPE == 'CatBoostClassifier':\n",
        "            params = params_cat(trial)\n",
        "            model = CatBoostClassifier(**params, verbose=100)\n",
        "\n",
        "    model.fit(X_train, y_train)\n",
        "    score = f1_score(y_test ,model.predict(X_test))\n",
        "    return score"
      ]
    },
    {
      "cell_type": "markdown",
      "metadata": {
        "id": "H4hLkNecG9uC"
      },
      "source": [
        "## Config"
      ]
    },
    {
      "cell_type": "code",
      "execution_count": 109,
      "metadata": {
        "id": "7eAGiwlAG8y5"
      },
      "outputs": [],
      "source": [
        "RANDOM_STATE = 42\n",
        "\n",
        "MAX_ITER = 500\n",
        "\n",
        "N_TRIALS = 3\n",
        "MODEL = [LogisticRegression, DecisionTreeClassifier, RandomForestClassifier, CatBoostClassifier]\n",
        "METRIC = \"F1\"\n",
        "\n",
        "\n",
        "# optuna.logging.set_verbosity(optuna.logging.WARNING)\n",
        "warnings.filterwarnings(\"ignore\")"
      ]
    },
    {
      "cell_type": "markdown",
      "metadata": {
        "id": "lLjv7Z8t9Wzy"
      },
      "source": [
        "## Data loading"
      ]
    },
    {
      "cell_type": "code",
      "execution_count": 110,
      "metadata": {},
      "outputs": [
        {
          "data": {
            "text/html": [
              "<div>\n",
              "<style scoped>\n",
              "    .dataframe tbody tr th:only-of-type {\n",
              "        vertical-align: middle;\n",
              "    }\n",
              "\n",
              "    .dataframe tbody tr th {\n",
              "        vertical-align: top;\n",
              "    }\n",
              "\n",
              "    .dataframe thead th {\n",
              "        text-align: right;\n",
              "    }\n",
              "</style>\n",
              "<table border=\"1\" class=\"dataframe\">\n",
              "  <thead>\n",
              "    <tr style=\"text-align: right;\">\n",
              "      <th></th>\n",
              "      <th>event_timestamp</th>\n",
              "      <th>region</th>\n",
              "      <th>ua_device_type</th>\n",
              "      <th>ua_client_type</th>\n",
              "      <th>ua_os</th>\n",
              "      <th>ua_client_name</th>\n",
              "      <th>total_watchtime</th>\n",
              "      <th>rutube_video_id</th>\n",
              "      <th>viewer_uid</th>\n",
              "    </tr>\n",
              "  </thead>\n",
              "  <tbody>\n",
              "    <tr>\n",
              "      <th>0</th>\n",
              "      <td>2024-06-01 06:40:58+03:00</td>\n",
              "      <td>Chelyabinsk</td>\n",
              "      <td>desktop</td>\n",
              "      <td>browser</td>\n",
              "      <td>Windows</td>\n",
              "      <td>Yandex Browser</td>\n",
              "      <td>1883</td>\n",
              "      <td>video_133074</td>\n",
              "      <td>10067243</td>\n",
              "    </tr>\n",
              "    <tr>\n",
              "      <th>1</th>\n",
              "      <td>2024-06-01 19:33:24+03:00</td>\n",
              "      <td>Bashkortostan Republic</td>\n",
              "      <td>smartphone</td>\n",
              "      <td>mobile app</td>\n",
              "      <td>Android</td>\n",
              "      <td>Rutube</td>\n",
              "      <td>512</td>\n",
              "      <td>video_362960</td>\n",
              "      <td>10245341</td>\n",
              "    </tr>\n",
              "    <tr>\n",
              "      <th>2</th>\n",
              "      <td>2024-06-01 21:30:43+03:00</td>\n",
              "      <td>St.-Petersburg</td>\n",
              "      <td>desktop</td>\n",
              "      <td>browser</td>\n",
              "      <td>Windows</td>\n",
              "      <td>Chrome</td>\n",
              "      <td>5647</td>\n",
              "      <td>video_96775</td>\n",
              "      <td>10894333</td>\n",
              "    </tr>\n",
              "    <tr>\n",
              "      <th>3</th>\n",
              "      <td>2024-06-01 23:03:42+03:00</td>\n",
              "      <td>Moscow</td>\n",
              "      <td>smartphone</td>\n",
              "      <td>mobile app</td>\n",
              "      <td>Android</td>\n",
              "      <td>Rutube</td>\n",
              "      <td>1521</td>\n",
              "      <td>video_161610</td>\n",
              "      <td>10029092</td>\n",
              "    </tr>\n",
              "    <tr>\n",
              "      <th>4</th>\n",
              "      <td>2024-06-01 22:48:09+03:00</td>\n",
              "      <td>Moscow</td>\n",
              "      <td>smartphone</td>\n",
              "      <td>mobile app</td>\n",
              "      <td>Android</td>\n",
              "      <td>Rutube</td>\n",
              "      <td>71</td>\n",
              "      <td>video_116245</td>\n",
              "      <td>10452976</td>\n",
              "    </tr>\n",
              "  </tbody>\n",
              "</table>\n",
              "</div>"
            ],
            "text/plain": [
              "             event_timestamp                  region ua_device_type  \\\n",
              "0  2024-06-01 06:40:58+03:00             Chelyabinsk        desktop   \n",
              "1  2024-06-01 19:33:24+03:00  Bashkortostan Republic     smartphone   \n",
              "2  2024-06-01 21:30:43+03:00          St.-Petersburg        desktop   \n",
              "3  2024-06-01 23:03:42+03:00                  Moscow     smartphone   \n",
              "4  2024-06-01 22:48:09+03:00                  Moscow     smartphone   \n",
              "\n",
              "  ua_client_type    ua_os  ua_client_name  total_watchtime rutube_video_id  \\\n",
              "0        browser  Windows  Yandex Browser             1883    video_133074   \n",
              "1     mobile app  Android          Rutube              512    video_362960   \n",
              "2        browser  Windows          Chrome             5647     video_96775   \n",
              "3     mobile app  Android          Rutube             1521    video_161610   \n",
              "4     mobile app  Android          Rutube               71    video_116245   \n",
              "\n",
              "   viewer_uid  \n",
              "0    10067243  \n",
              "1    10245341  \n",
              "2    10894333  \n",
              "3    10029092  \n",
              "4    10452976  "
            ]
          },
          "execution_count": 110,
          "metadata": {},
          "output_type": "execute_result"
        }
      ],
      "source": [
        "data_train = pd.read_csv(r'train_events.csv')\n",
        "data_train.head(5)"
      ]
    },
    {
      "cell_type": "code",
      "execution_count": 111,
      "metadata": {},
      "outputs": [
        {
          "data": {
            "text/html": [
              "<div>\n",
              "<style scoped>\n",
              "    .dataframe tbody tr th:only-of-type {\n",
              "        vertical-align: middle;\n",
              "    }\n",
              "\n",
              "    .dataframe tbody tr th {\n",
              "        vertical-align: top;\n",
              "    }\n",
              "\n",
              "    .dataframe thead th {\n",
              "        text-align: right;\n",
              "    }\n",
              "</style>\n",
              "<table border=\"1\" class=\"dataframe\">\n",
              "  <thead>\n",
              "    <tr style=\"text-align: right;\">\n",
              "      <th></th>\n",
              "      <th>viewer_uid</th>\n",
              "      <th>age</th>\n",
              "      <th>sex</th>\n",
              "      <th>age_class</th>\n",
              "    </tr>\n",
              "  </thead>\n",
              "  <tbody>\n",
              "    <tr>\n",
              "      <th>0</th>\n",
              "      <td>10087154</td>\n",
              "      <td>30</td>\n",
              "      <td>male</td>\n",
              "      <td>1</td>\n",
              "    </tr>\n",
              "    <tr>\n",
              "      <th>1</th>\n",
              "      <td>10908708</td>\n",
              "      <td>25</td>\n",
              "      <td>female</td>\n",
              "      <td>1</td>\n",
              "    </tr>\n",
              "    <tr>\n",
              "      <th>2</th>\n",
              "      <td>10190464</td>\n",
              "      <td>34</td>\n",
              "      <td>male</td>\n",
              "      <td>2</td>\n",
              "    </tr>\n",
              "    <tr>\n",
              "      <th>3</th>\n",
              "      <td>10939673</td>\n",
              "      <td>25</td>\n",
              "      <td>male</td>\n",
              "      <td>1</td>\n",
              "    </tr>\n",
              "    <tr>\n",
              "      <th>4</th>\n",
              "      <td>10288257</td>\n",
              "      <td>48</td>\n",
              "      <td>male</td>\n",
              "      <td>3</td>\n",
              "    </tr>\n",
              "  </tbody>\n",
              "</table>\n",
              "</div>"
            ],
            "text/plain": [
              "   viewer_uid  age     sex  age_class\n",
              "0    10087154   30    male          1\n",
              "1    10908708   25  female          1\n",
              "2    10190464   34    male          2\n",
              "3    10939673   25    male          1\n",
              "4    10288257   48    male          3"
            ]
          },
          "execution_count": 111,
          "metadata": {},
          "output_type": "execute_result"
        }
      ],
      "source": [
        "data_target = pd.read_csv(r'train_targets.csv')\n",
        "data_target.head(5)"
      ]
    },
    {
      "cell_type": "markdown",
      "metadata": {},
      "source": [
        "Так как время в секундах приводим к часам"
      ]
    },
    {
      "cell_type": "code",
      "execution_count": 112,
      "metadata": {},
      "outputs": [],
      "source": [
        "data_train['total_watchtime'] = data_train['total_watchtime'] / 3600"
      ]
    },
    {
      "cell_type": "markdown",
      "metadata": {},
      "source": [
        "## Merging data"
      ]
    },
    {
      "cell_type": "code",
      "execution_count": 121,
      "metadata": {},
      "outputs": [],
      "source": [
        "all_train_data = pd.merge(data_train, data_target, on='viewer_uid', how='outer')"
      ]
    },
    {
      "cell_type": "code",
      "execution_count": 103,
      "metadata": {},
      "outputs": [
        {
          "data": {
            "text/plain": [
              "(1759616, 12)"
            ]
          },
          "execution_count": 103,
          "metadata": {},
          "output_type": "execute_result"
        }
      ],
      "source": [
        "all_train_data.shape"
      ]
    },
    {
      "cell_type": "markdown",
      "metadata": {
        "id": "9o9oqrDa90y7"
      },
      "source": [
        "## Проверим на пропуски и дубли"
      ]
    },
    {
      "cell_type": "code",
      "execution_count": 114,
      "metadata": {
        "colab": {
          "base_uri": "https://localhost:8080/"
        },
        "id": "KeSbD9519vtz",
        "outputId": "fbb836da-900a-4d90-dfcc-b846e2c126f2"
      },
      "outputs": [
        {
          "data": {
            "text/plain": [
              "event_timestamp         0\n",
              "region                  0\n",
              "ua_device_type          0\n",
              "ua_client_type          0\n",
              "ua_os              117671\n",
              "ua_client_name          0\n",
              "total_watchtime         0\n",
              "rutube_video_id         0\n",
              "viewer_uid              0\n",
              "age                     0\n",
              "sex                     0\n",
              "age_class               0\n",
              "dtype: int64"
            ]
          },
          "execution_count": 114,
          "metadata": {},
          "output_type": "execute_result"
        }
      ],
      "source": [
        "all_train_data.isna().sum()"
      ]
    },
    {
      "cell_type": "markdown",
      "metadata": {},
      "source": [
        "Пропуски в категориальной переменной, поэтому заполним пропуски модой"
      ]
    },
    {
      "cell_type": "code",
      "execution_count": 118,
      "metadata": {},
      "outputs": [
        {
          "data": {
            "text/plain": [
              "'Android'"
            ]
          },
          "execution_count": 118,
          "metadata": {},
          "output_type": "execute_result"
        }
      ],
      "source": [
        "all_train_data['ua_os'].mode()[0]"
      ]
    },
    {
      "cell_type": "code",
      "execution_count": 123,
      "metadata": {},
      "outputs": [],
      "source": [
        "all_train_data = all_train_data.fillna(all_train_data['ua_os'].mode()[0])"
      ]
    },
    {
      "cell_type": "code",
      "execution_count": 124,
      "metadata": {
        "colab": {
          "base_uri": "https://localhost:8080/"
        },
        "id": "vYUznO1WOESR",
        "outputId": "8a5932ed-b3d4-4781-a5e4-adf6dc65cc73"
      },
      "outputs": [
        {
          "data": {
            "text/plain": [
              "event_timestamp    0\n",
              "region             0\n",
              "ua_device_type     0\n",
              "ua_client_type     0\n",
              "ua_os              0\n",
              "ua_client_name     0\n",
              "total_watchtime    0\n",
              "rutube_video_id    0\n",
              "viewer_uid         0\n",
              "age                0\n",
              "sex                0\n",
              "age_class          0\n",
              "dtype: int64"
            ]
          },
          "execution_count": 124,
          "metadata": {},
          "output_type": "execute_result"
        }
      ],
      "source": [
        "all_train_data.isna().sum()"
      ]
    },
    {
      "cell_type": "code",
      "execution_count": 125,
      "metadata": {
        "colab": {
          "base_uri": "https://localhost:8080/"
        },
        "id": "o_oB7TnzJnTr",
        "outputId": "f42f7c63-61f3-4d5b-ee1e-8b33f5065760"
      },
      "outputs": [
        {
          "data": {
            "text/plain": [
              "0"
            ]
          },
          "execution_count": 125,
          "metadata": {},
          "output_type": "execute_result"
        }
      ],
      "source": [
        "all_train_data.duplicated().sum()"
      ]
    },
    {
      "cell_type": "markdown",
      "metadata": {},
      "source": [
        "Полных дубликатов - нет"
      ]
    },
    {
      "cell_type": "code",
      "execution_count": 126,
      "metadata": {
        "colab": {
          "base_uri": "https://localhost:8080/"
        },
        "id": "lMXm0Q7-Jwr-",
        "outputId": "cc993976-1b0a-4530-f5c7-2766bbbbc918"
      },
      "outputs": [
        {
          "data": {
            "text/plain": [
              "sex\n",
              "0    1084515\n",
              "1     675101\n",
              "Name: count, dtype: int64"
            ]
          },
          "execution_count": 126,
          "metadata": {},
          "output_type": "execute_result"
        }
      ],
      "source": [
        "all_train_data['sex'] = all_train_data['sex'].replace({'female': 0, 'male': 1})\n",
        "all_train_data['sex'].value_counts()"
      ]
    },
    {
      "cell_type": "markdown",
      "metadata": {},
      "source": [
        "Привели один из таргетов к бинарной классификации (0 - женщина, 1 - мужчина)"
      ]
    },
    {
      "cell_type": "code",
      "execution_count": null,
      "metadata": {},
      "outputs": [],
      "source": [
        "all_train_data['ua_device_type'].value_counts() "
      ]
    },
    {
      "cell_type": "code",
      "execution_count": null,
      "metadata": {},
      "outputs": [],
      "source": [
        "all_train_data['ua_client_type'].value_counts() "
      ]
    },
    {
      "cell_type": "markdown",
      "metadata": {},
      "source": [
        "Для энкодинга данных параметров будем использовать OHE, так как не сильно увеличим размерность итогового датасета"
      ]
    },
    {
      "cell_type": "markdown",
      "metadata": {
        "id": "usgZza4YHl-_"
      },
      "source": [
        "## Encoding"
      ]
    },
    {
      "cell_type": "code",
      "execution_count": 127,
      "metadata": {
        "id": "iNpLcDNqKxDj"
      },
      "outputs": [],
      "source": [
        "encoding_data = ['ua_client_type', 'ua_device_type']\n",
        "encoding_ohe = OneHotEncoder(handle_unknown='ignore')\n",
        "ohe_data = encoding_ohe.fit_transform(all_train_data[encoding_data])\n",
        "ohe_df = pd.DataFrame(ohe_data.toarray(), columns=encoding_ohe.get_feature_names_out(encoding_data))"
      ]
    },
    {
      "cell_type": "code",
      "execution_count": 128,
      "metadata": {
        "id": "yA4i77N_MOMM"
      },
      "outputs": [],
      "source": [
        "merged_data_ohe = pd.concat([all_train_data.reset_index(drop=True), ohe_df.reset_index(drop=True)], axis=1)\n",
        "\n",
        "merged_data_ohe.drop(columns=encoding_data, inplace=True)"
      ]
    },
    {
      "cell_type": "markdown",
      "metadata": {},
      "source": [
        "Далее будем использовать LabelEncoder для кодировки оставшихся категориальных переменных "
      ]
    },
    {
      "cell_type": "code",
      "execution_count": 131,
      "metadata": {},
      "outputs": [
        {
          "data": {
            "text/html": [
              "<div>\n",
              "<style scoped>\n",
              "    .dataframe tbody tr th:only-of-type {\n",
              "        vertical-align: middle;\n",
              "    }\n",
              "\n",
              "    .dataframe tbody tr th {\n",
              "        vertical-align: top;\n",
              "    }\n",
              "\n",
              "    .dataframe thead th {\n",
              "        text-align: right;\n",
              "    }\n",
              "</style>\n",
              "<table border=\"1\" class=\"dataframe\">\n",
              "  <thead>\n",
              "    <tr style=\"text-align: right;\">\n",
              "      <th></th>\n",
              "      <th>event_timestamp</th>\n",
              "      <th>region</th>\n",
              "      <th>ua_os</th>\n",
              "      <th>ua_client_name</th>\n",
              "      <th>rutube_video_id</th>\n",
              "    </tr>\n",
              "  </thead>\n",
              "  <tbody>\n",
              "    <tr>\n",
              "      <th>0</th>\n",
              "      <td>5901</td>\n",
              "      <td>13</td>\n",
              "      <td>20</td>\n",
              "      <td>57</td>\n",
              "      <td>9640</td>\n",
              "    </tr>\n",
              "    <tr>\n",
              "      <th>1</th>\n",
              "      <td>5442</td>\n",
              "      <td>13</td>\n",
              "      <td>20</td>\n",
              "      <td>57</td>\n",
              "      <td>114914</td>\n",
              "    </tr>\n",
              "    <tr>\n",
              "      <th>2</th>\n",
              "      <td>42207</td>\n",
              "      <td>13</td>\n",
              "      <td>20</td>\n",
              "      <td>57</td>\n",
              "      <td>125297</td>\n",
              "    </tr>\n",
              "    <tr>\n",
              "      <th>3</th>\n",
              "      <td>108470</td>\n",
              "      <td>13</td>\n",
              "      <td>20</td>\n",
              "      <td>57</td>\n",
              "      <td>87989</td>\n",
              "    </tr>\n",
              "    <tr>\n",
              "      <th>4</th>\n",
              "      <td>196439</td>\n",
              "      <td>13</td>\n",
              "      <td>20</td>\n",
              "      <td>57</td>\n",
              "      <td>23341</td>\n",
              "    </tr>\n",
              "    <tr>\n",
              "      <th>...</th>\n",
              "      <td>...</td>\n",
              "      <td>...</td>\n",
              "      <td>...</td>\n",
              "      <td>...</td>\n",
              "      <td>...</td>\n",
              "    </tr>\n",
              "    <tr>\n",
              "      <th>1759611</th>\n",
              "      <td>1219801</td>\n",
              "      <td>54</td>\n",
              "      <td>0</td>\n",
              "      <td>11</td>\n",
              "      <td>92058</td>\n",
              "    </tr>\n",
              "    <tr>\n",
              "      <th>1759612</th>\n",
              "      <td>1219182</td>\n",
              "      <td>95</td>\n",
              "      <td>11</td>\n",
              "      <td>47</td>\n",
              "      <td>15378</td>\n",
              "    </tr>\n",
              "    <tr>\n",
              "      <th>1759613</th>\n",
              "      <td>1213996</td>\n",
              "      <td>86</td>\n",
              "      <td>20</td>\n",
              "      <td>9</td>\n",
              "      <td>23050</td>\n",
              "    </tr>\n",
              "    <tr>\n",
              "      <th>1759614</th>\n",
              "      <td>1201551</td>\n",
              "      <td>86</td>\n",
              "      <td>0</td>\n",
              "      <td>22</td>\n",
              "      <td>62853</td>\n",
              "    </tr>\n",
              "    <tr>\n",
              "      <th>1759615</th>\n",
              "      <td>1219008</td>\n",
              "      <td>107</td>\n",
              "      <td>20</td>\n",
              "      <td>20</td>\n",
              "      <td>120624</td>\n",
              "    </tr>\n",
              "  </tbody>\n",
              "</table>\n",
              "<p>1759616 rows × 5 columns</p>\n",
              "</div>"
            ],
            "text/plain": [
              "         event_timestamp  region  ua_os  ua_client_name  rutube_video_id\n",
              "0                   5901      13     20              57             9640\n",
              "1                   5442      13     20              57           114914\n",
              "2                  42207      13     20              57           125297\n",
              "3                 108470      13     20              57            87989\n",
              "4                 196439      13     20              57            23341\n",
              "...                  ...     ...    ...             ...              ...\n",
              "1759611          1219801      54      0              11            92058\n",
              "1759612          1219182      95     11              47            15378\n",
              "1759613          1213996      86     20               9            23050\n",
              "1759614          1201551      86      0              22            62853\n",
              "1759615          1219008     107     20              20           120624\n",
              "\n",
              "[1759616 rows x 5 columns]"
            ]
          },
          "execution_count": 131,
          "metadata": {},
          "output_type": "execute_result"
        }
      ],
      "source": [
        "encoding_data = ['event_timestamp', 'region', 'ua_os', 'ua_client_name', 'rutube_video_id']\n",
        "\n",
        "le = LabelEncoder()\n",
        "encoded_data = {}\n",
        "\n",
        "for col in encoding_data:\n",
        "    encoded_data[col] = le.fit_transform(all_train_data[col])\n",
        "\n",
        "encoded_df = pd.DataFrame(encoded_data)\n",
        "\n",
        "encoded_df"
      ]
    },
    {
      "cell_type": "code",
      "execution_count": 132,
      "metadata": {},
      "outputs": [
        {
          "name": "stdout",
          "output_type": "stream",
          "text": [
            "Колонки после объединения:\n",
            "Index(['event_timestamp_encoded', 'region_encoded', 'ua_os_encoded',\n",
            "       'ua_client_name_encoded', 'rutube_video_id_encoded', 'event_timestamp',\n",
            "       'region', 'ua_os', 'ua_client_name', 'total_watchtime',\n",
            "       'rutube_video_id', 'viewer_uid', 'age', 'sex', 'age_class',\n",
            "       'ua_client_type_av', 'ua_client_type_browser',\n",
            "       'ua_client_type_mobile app', 'ua_device_type_desktop',\n",
            "       'ua_device_type_smartphone', 'ua_device_type_tablet'],\n",
            "      dtype='object')\n",
            "Колонки после удаления исходных данных:\n",
            "Index(['event_timestamp_encoded', 'region_encoded', 'ua_os_encoded',\n",
            "       'ua_client_name_encoded', 'rutube_video_id_encoded', 'total_watchtime',\n",
            "       'viewer_uid', 'age', 'sex', 'age_class', 'ua_client_type_av',\n",
            "       'ua_client_type_browser', 'ua_client_type_mobile app',\n",
            "       'ua_device_type_desktop', 'ua_device_type_smartphone',\n",
            "       'ua_device_type_tablet'],\n",
            "      dtype='object')\n"
          ]
        }
      ],
      "source": [
        "encoded_df.columns = [f\"{col}_encoded\" for col in encoded_df.columns]\n",
        "\n",
        "merged_data = pd.concat([encoded_df.reset_index(drop=True), merged_data_ohe.reset_index(drop=True)], axis=1)\n",
        "\n",
        "print(\"Колонки после объединения:\")\n",
        "print(merged_data.columns)\n",
        "\n",
        "merged_data.drop(columns=[col for col in encoding_data if col in merged_data.columns], inplace=True)\n",
        "\n",
        "print(\"Колонки после удаления исходных данных:\")\n",
        "print(merged_data.columns)"
      ]
    },
    {
      "cell_type": "code",
      "execution_count": null,
      "metadata": {},
      "outputs": [],
      "source": [
        "merged_data.shape"
      ]
    },
    {
      "cell_type": "code",
      "execution_count": 136,
      "metadata": {},
      "outputs": [
        {
          "data": {
            "text/plain": [
              "event_timestamp_encoded      0\n",
              "region_encoded               0\n",
              "ua_os_encoded                0\n",
              "ua_client_name_encoded       0\n",
              "rutube_video_id_encoded      0\n",
              "total_watchtime              0\n",
              "viewer_uid                   0\n",
              "age                          0\n",
              "sex                          0\n",
              "age_class                    0\n",
              "ua_client_type_av            0\n",
              "ua_client_type_browser       0\n",
              "ua_client_type_mobile app    0\n",
              "ua_device_type_desktop       0\n",
              "ua_device_type_smartphone    0\n",
              "ua_device_type_tablet        0\n",
              "dtype: int64"
            ]
          },
          "execution_count": 136,
          "metadata": {},
          "output_type": "execute_result"
        }
      ],
      "source": [
        "merged_data.isna().sum()"
      ]
    },
    {
      "cell_type": "markdown",
      "metadata": {},
      "source": [
        "Пропусков нет"
      ]
    },
    {
      "cell_type": "markdown",
      "metadata": {
        "id": "m4gUbB5tGNJA"
      },
      "source": [
        "## Sampling"
      ]
    },
    {
      "cell_type": "markdown",
      "metadata": {},
      "source": [
        "Делим данные на 3 выборки - трейн 60%, тестовая и валидационная - 20%"
      ]
    },
    {
      "cell_type": "code",
      "execution_count": 137,
      "metadata": {},
      "outputs": [],
      "source": [
        "X = merged_data.drop(columns=['sex', 'age', 'age_class'])\n",
        "y = merged_data['sex']\n",
        "\n",
        "X_train, X_temp, y_train, y_temp = train_test_split(X, y, test_size=0.4, random_state=RANDOM_STATE)\n",
        "X_test, X_val, y_test, y_val = train_test_split(X_temp, y_temp, test_size=0.5, random_state=RANDOM_STATE)"
      ]
    },
    {
      "cell_type": "markdown",
      "metadata": {
        "id": "IE9ER92DGKI1"
      },
      "source": [
        "## Modeling"
      ]
    },
    {
      "cell_type": "markdown",
      "metadata": {},
      "source": [
        "Попробуем использовать несколько моделей и сравним их результаты"
      ]
    },
    {
      "cell_type": "code",
      "execution_count": 138,
      "metadata": {},
      "outputs": [],
      "source": [
        "lr_model = LogisticRegression(random_state=RANDOM_STATE).fit(X_train, y_train)"
      ]
    },
    {
      "cell_type": "code",
      "execution_count": 71,
      "metadata": {
        "id": "imuHXek7cUWC"
      },
      "outputs": [],
      "source": [
        "dec_tree = DecisionTreeClassifier(max_depth=3, random_state=RANDOM_STATE).fit(X_train, y_train)"
      ]
    },
    {
      "cell_type": "code",
      "execution_count": 140,
      "metadata": {
        "id": "TmvnGQRyfQzD"
      },
      "outputs": [],
      "source": [
        "rand_forest = RandomForestClassifier(max_depth=2, n_estimators=70, random_state=RANDOM_STATE).fit(X_train, y_train)"
      ]
    },
    {
      "cell_type": "code",
      "execution_count": 141,
      "metadata": {
        "id": "c6v54wdkguSH"
      },
      "outputs": [
        {
          "data": {
            "application/vnd.jupyter.widget-view+json": {
              "model_id": "45d36752e41c4e3283da4b82a092094a",
              "version_major": 2,
              "version_minor": 0
            },
            "text/plain": [
              "MetricVisualizer(layout=Layout(align_self='stretch', height='500px'))"
            ]
          },
          "metadata": {},
          "output_type": "display_data"
        },
        {
          "name": "stdout",
          "output_type": "stream",
          "text": [
            "0:\tlearn: 0.6682615\ttest: 0.6684379\tbest: 0.6684379 (0)\ttotal: 1.4s\tremaining: 6m 57s\n",
            "1:\tlearn: 0.6483180\ttest: 0.6486745\tbest: 0.6486745 (1)\ttotal: 3.65s\tremaining: 9m 4s\n",
            "2:\tlearn: 0.6318130\ttest: 0.6321912\tbest: 0.6321912 (2)\ttotal: 4.76s\tremaining: 7m 50s\n",
            "3:\tlearn: 0.6193437\ttest: 0.6198258\tbest: 0.6198258 (3)\ttotal: 5.66s\tremaining: 6m 58s\n",
            "4:\tlearn: 0.6088519\ttest: 0.6093192\tbest: 0.6093192 (4)\ttotal: 6.86s\tremaining: 6m 44s\n",
            "5:\tlearn: 0.6004099\ttest: 0.6009708\tbest: 0.6009708 (5)\ttotal: 12.8s\tremaining: 10m 24s\n",
            "6:\tlearn: 0.5939511\ttest: 0.5945835\tbest: 0.5945835 (6)\ttotal: 15.6s\tremaining: 10m 51s\n",
            "7:\tlearn: 0.5885972\ttest: 0.5892844\tbest: 0.5892844 (7)\ttotal: 17.8s\tremaining: 10m 50s\n",
            "8:\tlearn: 0.5840254\ttest: 0.5847914\tbest: 0.5847914 (8)\ttotal: 18.7s\tremaining: 10m 4s\n",
            "9:\tlearn: 0.5799763\ttest: 0.5807551\tbest: 0.5807551 (9)\ttotal: 19.7s\tremaining: 9m 31s\n",
            "10:\tlearn: 0.5765921\ttest: 0.5774470\tbest: 0.5774470 (10)\ttotal: 20.7s\tremaining: 9m 2s\n",
            "11:\tlearn: 0.5742180\ttest: 0.5750935\tbest: 0.5750935 (11)\ttotal: 21.7s\tremaining: 8m 41s\n",
            "12:\tlearn: 0.5719857\ttest: 0.5729201\tbest: 0.5729201 (12)\ttotal: 22.7s\tremaining: 8m 20s\n",
            "13:\tlearn: 0.5701265\ttest: 0.5711444\tbest: 0.5711444 (13)\ttotal: 23.6s\tremaining: 8m 2s\n",
            "14:\tlearn: 0.5686873\ttest: 0.5697346\tbest: 0.5697346 (14)\ttotal: 24.7s\tremaining: 7m 49s\n",
            "15:\tlearn: 0.5674519\ttest: 0.5685062\tbest: 0.5685062 (15)\ttotal: 25.7s\tremaining: 7m 36s\n",
            "16:\tlearn: 0.5663992\ttest: 0.5674751\tbest: 0.5674751 (16)\ttotal: 26.7s\tremaining: 7m 24s\n",
            "17:\tlearn: 0.5650077\ttest: 0.5661497\tbest: 0.5661497 (17)\ttotal: 28.7s\tremaining: 7m 28s\n",
            "18:\tlearn: 0.5638431\ttest: 0.5650162\tbest: 0.5650162 (18)\ttotal: 31.2s\tremaining: 7m 41s\n",
            "19:\tlearn: 0.5629350\ttest: 0.5641324\tbest: 0.5641324 (19)\ttotal: 33.2s\tremaining: 7m 44s\n",
            "20:\tlearn: 0.5620561\ttest: 0.5632813\tbest: 0.5632813 (20)\ttotal: 34.2s\tremaining: 7m 33s\n",
            "21:\tlearn: 0.5613761\ttest: 0.5626424\tbest: 0.5626424 (21)\ttotal: 35s\tremaining: 7m 22s\n",
            "22:\tlearn: 0.5607052\ttest: 0.5620147\tbest: 0.5620147 (22)\ttotal: 36.3s\tremaining: 7m 16s\n",
            "23:\tlearn: 0.5602508\ttest: 0.5616037\tbest: 0.5616037 (23)\ttotal: 37.9s\tremaining: 7m 15s\n",
            "24:\tlearn: 0.5598218\ttest: 0.5611854\tbest: 0.5611854 (24)\ttotal: 38.9s\tremaining: 7m 8s\n",
            "25:\tlearn: 0.5594174\ttest: 0.5608070\tbest: 0.5608070 (25)\ttotal: 39.9s\tremaining: 7m\n",
            "26:\tlearn: 0.5589757\ttest: 0.5603978\tbest: 0.5603978 (26)\ttotal: 42.1s\tremaining: 7m 5s\n",
            "27:\tlearn: 0.5585702\ttest: 0.5600115\tbest: 0.5600115 (27)\ttotal: 43.5s\tremaining: 7m 2s\n",
            "28:\tlearn: 0.5581184\ttest: 0.5595852\tbest: 0.5595852 (28)\ttotal: 46.1s\tremaining: 7m 10s\n",
            "29:\tlearn: 0.5578424\ttest: 0.5593433\tbest: 0.5593433 (29)\ttotal: 48.8s\tremaining: 7m 19s\n",
            "30:\tlearn: 0.5572884\ttest: 0.5587935\tbest: 0.5587935 (30)\ttotal: 50.8s\tremaining: 7m 21s\n",
            "31:\tlearn: 0.5569852\ttest: 0.5585162\tbest: 0.5585162 (31)\ttotal: 52.7s\tremaining: 7m 21s\n",
            "32:\tlearn: 0.5565926\ttest: 0.5581485\tbest: 0.5581485 (32)\ttotal: 55.1s\tremaining: 7m 26s\n",
            "33:\tlearn: 0.5561813\ttest: 0.5577581\tbest: 0.5577581 (33)\ttotal: 57.9s\tremaining: 7m 32s\n",
            "34:\tlearn: 0.5557869\ttest: 0.5573915\tbest: 0.5573915 (34)\ttotal: 1m 2s\tremaining: 7m 55s\n",
            "35:\tlearn: 0.5556074\ttest: 0.5572323\tbest: 0.5572323 (35)\ttotal: 1m 4s\tremaining: 7m 53s\n",
            "36:\tlearn: 0.5553185\ttest: 0.5569458\tbest: 0.5569458 (36)\ttotal: 1m 6s\tremaining: 7m 55s\n",
            "37:\tlearn: 0.5549995\ttest: 0.5566607\tbest: 0.5566607 (37)\ttotal: 1m 8s\tremaining: 7m 54s\n",
            "38:\tlearn: 0.5547056\ttest: 0.5563686\tbest: 0.5563686 (38)\ttotal: 1m 10s\tremaining: 7m 49s\n",
            "39:\tlearn: 0.5543608\ttest: 0.5560482\tbest: 0.5560482 (39)\ttotal: 1m 11s\tremaining: 7m 42s\n",
            "40:\tlearn: 0.5539964\ttest: 0.5556993\tbest: 0.5556993 (40)\ttotal: 1m 12s\tremaining: 7m 36s\n",
            "41:\tlearn: 0.5536271\ttest: 0.5553404\tbest: 0.5553404 (41)\ttotal: 1m 13s\tremaining: 7m 29s\n",
            "42:\tlearn: 0.5533197\ttest: 0.5550413\tbest: 0.5550413 (42)\ttotal: 1m 14s\tremaining: 7m 24s\n",
            "43:\tlearn: 0.5530778\ttest: 0.5548235\tbest: 0.5548235 (43)\ttotal: 1m 15s\tremaining: 7m 18s\n",
            "44:\tlearn: 0.5527809\ttest: 0.5545553\tbest: 0.5545553 (44)\ttotal: 1m 16s\tremaining: 7m 12s\n",
            "45:\tlearn: 0.5525607\ttest: 0.5543616\tbest: 0.5543616 (45)\ttotal: 1m 17s\tremaining: 7m 6s\n",
            "46:\tlearn: 0.5523784\ttest: 0.5542070\tbest: 0.5542070 (46)\ttotal: 1m 18s\tremaining: 7m\n",
            "47:\tlearn: 0.5522015\ttest: 0.5540471\tbest: 0.5540471 (47)\ttotal: 1m 19s\tremaining: 6m 55s\n",
            "48:\tlearn: 0.5520324\ttest: 0.5538971\tbest: 0.5538971 (48)\ttotal: 1m 20s\tremaining: 6m 50s\n",
            "49:\tlearn: 0.5518389\ttest: 0.5537391\tbest: 0.5537391 (49)\ttotal: 1m 21s\tremaining: 6m 45s\n",
            "50:\tlearn: 0.5516571\ttest: 0.5535743\tbest: 0.5535743 (50)\ttotal: 1m 22s\tremaining: 6m 41s\n",
            "51:\tlearn: 0.5514399\ttest: 0.5533728\tbest: 0.5533728 (51)\ttotal: 1m 23s\tremaining: 6m 36s\n",
            "52:\tlearn: 0.5512689\ttest: 0.5532215\tbest: 0.5532215 (52)\ttotal: 1m 24s\tremaining: 6m 31s\n",
            "53:\tlearn: 0.5510471\ttest: 0.5530191\tbest: 0.5530191 (53)\ttotal: 1m 25s\tremaining: 6m 27s\n",
            "54:\tlearn: 0.5507952\ttest: 0.5527814\tbest: 0.5527814 (54)\ttotal: 1m 26s\tremaining: 6m 23s\n",
            "55:\tlearn: 0.5505760\ttest: 0.5525645\tbest: 0.5525645 (55)\ttotal: 1m 26s\tremaining: 6m 18s\n",
            "56:\tlearn: 0.5503903\ttest: 0.5523912\tbest: 0.5523912 (56)\ttotal: 1m 28s\tremaining: 6m 15s\n",
            "57:\tlearn: 0.5501808\ttest: 0.5521730\tbest: 0.5521730 (57)\ttotal: 1m 29s\tremaining: 6m 12s\n",
            "58:\tlearn: 0.5499869\ttest: 0.5519910\tbest: 0.5519910 (58)\ttotal: 1m 30s\tremaining: 6m 8s\n",
            "59:\tlearn: 0.5498400\ttest: 0.5518671\tbest: 0.5518671 (59)\ttotal: 1m 31s\tremaining: 6m 4s\n",
            "60:\tlearn: 0.5495664\ttest: 0.5516089\tbest: 0.5516089 (60)\ttotal: 1m 32s\tremaining: 6m\n",
            "61:\tlearn: 0.5494375\ttest: 0.5515093\tbest: 0.5515093 (61)\ttotal: 1m 33s\tremaining: 5m 58s\n",
            "62:\tlearn: 0.5492800\ttest: 0.5513838\tbest: 0.5513838 (62)\ttotal: 1m 34s\tremaining: 5m 55s\n",
            "63:\tlearn: 0.5491214\ttest: 0.5512257\tbest: 0.5512257 (63)\ttotal: 1m 35s\tremaining: 5m 51s\n",
            "64:\tlearn: 0.5489416\ttest: 0.5510597\tbest: 0.5510597 (64)\ttotal: 1m 36s\tremaining: 5m 48s\n",
            "65:\tlearn: 0.5487452\ttest: 0.5508836\tbest: 0.5508836 (65)\ttotal: 1m 37s\tremaining: 5m 44s\n",
            "66:\tlearn: 0.5484976\ttest: 0.5506455\tbest: 0.5506455 (66)\ttotal: 1m 38s\tremaining: 5m 41s\n",
            "67:\tlearn: 0.5483456\ttest: 0.5505106\tbest: 0.5505106 (67)\ttotal: 1m 39s\tremaining: 5m 38s\n",
            "68:\tlearn: 0.5481542\ttest: 0.5503308\tbest: 0.5503308 (68)\ttotal: 1m 40s\tremaining: 5m 34s\n",
            "69:\tlearn: 0.5480261\ttest: 0.5502225\tbest: 0.5502225 (69)\ttotal: 1m 41s\tremaining: 5m 32s\n",
            "70:\tlearn: 0.5478484\ttest: 0.5500583\tbest: 0.5500583 (70)\ttotal: 1m 42s\tremaining: 5m 29s\n",
            "71:\tlearn: 0.5476812\ttest: 0.5498865\tbest: 0.5498865 (71)\ttotal: 1m 42s\tremaining: 5m 26s\n",
            "72:\tlearn: 0.5475332\ttest: 0.5497605\tbest: 0.5497605 (72)\ttotal: 1m 43s\tremaining: 5m 23s\n",
            "73:\tlearn: 0.5472859\ttest: 0.5495287\tbest: 0.5495287 (73)\ttotal: 1m 44s\tremaining: 5m 20s\n",
            "74:\tlearn: 0.5471351\ttest: 0.5493874\tbest: 0.5493874 (74)\ttotal: 1m 45s\tremaining: 5m 17s\n",
            "75:\tlearn: 0.5469862\ttest: 0.5492742\tbest: 0.5492742 (75)\ttotal: 1m 46s\tremaining: 5m 15s\n",
            "76:\tlearn: 0.5468280\ttest: 0.5491362\tbest: 0.5491362 (76)\ttotal: 1m 47s\tremaining: 5m 12s\n",
            "77:\tlearn: 0.5467052\ttest: 0.5490440\tbest: 0.5490440 (77)\ttotal: 1m 48s\tremaining: 5m 9s\n",
            "78:\tlearn: 0.5465845\ttest: 0.5489287\tbest: 0.5489287 (78)\ttotal: 1m 49s\tremaining: 5m 6s\n",
            "79:\tlearn: 0.5463775\ttest: 0.5487266\tbest: 0.5487266 (79)\ttotal: 1m 50s\tremaining: 5m 4s\n",
            "80:\tlearn: 0.5461536\ttest: 0.5485071\tbest: 0.5485071 (80)\ttotal: 1m 51s\tremaining: 5m 1s\n",
            "81:\tlearn: 0.5460425\ttest: 0.5484092\tbest: 0.5484092 (81)\ttotal: 1m 52s\tremaining: 4m 59s\n",
            "82:\tlearn: 0.5458883\ttest: 0.5482663\tbest: 0.5482663 (82)\ttotal: 1m 53s\tremaining: 4m 56s\n",
            "83:\tlearn: 0.5457330\ttest: 0.5481218\tbest: 0.5481218 (83)\ttotal: 1m 54s\tremaining: 4m 54s\n",
            "84:\tlearn: 0.5455914\ttest: 0.5479913\tbest: 0.5479913 (84)\ttotal: 1m 55s\tremaining: 4m 52s\n",
            "85:\tlearn: 0.5454723\ttest: 0.5478824\tbest: 0.5478824 (85)\ttotal: 1m 56s\tremaining: 4m 49s\n",
            "86:\tlearn: 0.5453335\ttest: 0.5477669\tbest: 0.5477669 (86)\ttotal: 1m 57s\tremaining: 4m 47s\n",
            "87:\tlearn: 0.5451505\ttest: 0.5475787\tbest: 0.5475787 (87)\ttotal: 1m 58s\tremaining: 4m 45s\n",
            "88:\tlearn: 0.5450127\ttest: 0.5474628\tbest: 0.5474628 (88)\ttotal: 1m 59s\tremaining: 4m 43s\n",
            "89:\tlearn: 0.5449504\ttest: 0.5474155\tbest: 0.5474155 (89)\ttotal: 2m\tremaining: 4m 41s\n",
            "90:\tlearn: 0.5447891\ttest: 0.5472634\tbest: 0.5472634 (90)\ttotal: 2m 1s\tremaining: 4m 39s\n",
            "91:\tlearn: 0.5446511\ttest: 0.5471238\tbest: 0.5471238 (91)\ttotal: 2m 2s\tremaining: 4m 37s\n",
            "92:\tlearn: 0.5445413\ttest: 0.5470375\tbest: 0.5470375 (92)\ttotal: 2m 4s\tremaining: 4m 36s\n",
            "93:\tlearn: 0.5443931\ttest: 0.5468852\tbest: 0.5468852 (93)\ttotal: 2m 6s\tremaining: 4m 36s\n",
            "94:\tlearn: 0.5442602\ttest: 0.5467681\tbest: 0.5467681 (94)\ttotal: 2m 7s\tremaining: 4m 34s\n",
            "95:\tlearn: 0.5440942\ttest: 0.5466228\tbest: 0.5466228 (95)\ttotal: 2m 8s\tremaining: 4m 32s\n",
            "96:\tlearn: 0.5439501\ttest: 0.5464974\tbest: 0.5464974 (96)\ttotal: 2m 9s\tremaining: 4m 30s\n",
            "97:\tlearn: 0.5437911\ttest: 0.5463465\tbest: 0.5463465 (97)\ttotal: 2m 10s\tremaining: 4m 28s\n",
            "98:\tlearn: 0.5436520\ttest: 0.5462243\tbest: 0.5462243 (98)\ttotal: 2m 11s\tremaining: 4m 26s\n",
            "99:\tlearn: 0.5435401\ttest: 0.5461419\tbest: 0.5461419 (99)\ttotal: 2m 12s\tremaining: 4m 24s\n",
            "100:\tlearn: 0.5434133\ttest: 0.5460155\tbest: 0.5460155 (100)\ttotal: 2m 13s\tremaining: 4m 22s\n",
            "101:\tlearn: 0.5432863\ttest: 0.5458989\tbest: 0.5458989 (101)\ttotal: 2m 14s\tremaining: 4m 20s\n",
            "102:\tlearn: 0.5431083\ttest: 0.5457401\tbest: 0.5457401 (102)\ttotal: 2m 15s\tremaining: 4m 19s\n",
            "103:\tlearn: 0.5430174\ttest: 0.5456804\tbest: 0.5456804 (103)\ttotal: 2m 16s\tremaining: 4m 17s\n",
            "104:\tlearn: 0.5429420\ttest: 0.5456129\tbest: 0.5456129 (104)\ttotal: 2m 18s\tremaining: 4m 16s\n",
            "105:\tlearn: 0.5427685\ttest: 0.5454485\tbest: 0.5454485 (105)\ttotal: 2m 19s\tremaining: 4m 14s\n",
            "106:\tlearn: 0.5426803\ttest: 0.5453696\tbest: 0.5453696 (106)\ttotal: 2m 20s\tremaining: 4m 12s\n",
            "107:\tlearn: 0.5425367\ttest: 0.5452353\tbest: 0.5452353 (107)\ttotal: 2m 21s\tremaining: 4m 10s\n",
            "108:\tlearn: 0.5424533\ttest: 0.5451589\tbest: 0.5451589 (108)\ttotal: 2m 21s\tremaining: 4m 8s\n",
            "109:\tlearn: 0.5423205\ttest: 0.5450350\tbest: 0.5450350 (109)\ttotal: 2m 22s\tremaining: 4m 6s\n",
            "110:\tlearn: 0.5422210\ttest: 0.5449434\tbest: 0.5449434 (110)\ttotal: 2m 24s\tremaining: 4m 5s\n",
            "111:\tlearn: 0.5421018\ttest: 0.5448493\tbest: 0.5448493 (111)\ttotal: 2m 25s\tremaining: 4m 4s\n",
            "112:\tlearn: 0.5419610\ttest: 0.5447358\tbest: 0.5447358 (112)\ttotal: 2m 26s\tremaining: 4m 2s\n",
            "113:\tlearn: 0.5418189\ttest: 0.5446163\tbest: 0.5446163 (113)\ttotal: 2m 28s\tremaining: 4m 2s\n",
            "114:\tlearn: 0.5416613\ttest: 0.5444700\tbest: 0.5444700 (114)\ttotal: 2m 30s\tremaining: 4m 1s\n",
            "115:\tlearn: 0.5415508\ttest: 0.5443760\tbest: 0.5443760 (115)\ttotal: 2m 31s\tremaining: 3m 59s\n",
            "116:\tlearn: 0.5414632\ttest: 0.5443017\tbest: 0.5443017 (116)\ttotal: 2m 32s\tremaining: 3m 59s\n",
            "117:\tlearn: 0.5413710\ttest: 0.5442471\tbest: 0.5442471 (117)\ttotal: 2m 34s\tremaining: 3m 57s\n",
            "118:\tlearn: 0.5412861\ttest: 0.5441730\tbest: 0.5441730 (118)\ttotal: 2m 35s\tremaining: 3m 55s\n",
            "119:\tlearn: 0.5411570\ttest: 0.5440646\tbest: 0.5440646 (119)\ttotal: 2m 36s\tremaining: 3m 54s\n",
            "120:\tlearn: 0.5410191\ttest: 0.5439365\tbest: 0.5439365 (120)\ttotal: 2m 37s\tremaining: 3m 52s\n",
            "121:\tlearn: 0.5408902\ttest: 0.5438172\tbest: 0.5438172 (121)\ttotal: 2m 38s\tremaining: 3m 51s\n",
            "122:\tlearn: 0.5407605\ttest: 0.5436931\tbest: 0.5436931 (122)\ttotal: 2m 39s\tremaining: 3m 49s\n",
            "123:\tlearn: 0.5406737\ttest: 0.5436180\tbest: 0.5436180 (123)\ttotal: 2m 40s\tremaining: 3m 47s\n",
            "124:\tlearn: 0.5405342\ttest: 0.5435013\tbest: 0.5435013 (124)\ttotal: 2m 41s\tremaining: 3m 46s\n",
            "125:\tlearn: 0.5404152\ttest: 0.5434103\tbest: 0.5434103 (125)\ttotal: 2m 42s\tremaining: 3m 44s\n",
            "126:\tlearn: 0.5403512\ttest: 0.5433646\tbest: 0.5433646 (126)\ttotal: 2m 43s\tremaining: 3m 42s\n",
            "127:\tlearn: 0.5402289\ttest: 0.5432437\tbest: 0.5432437 (127)\ttotal: 2m 44s\tremaining: 3m 41s\n",
            "128:\tlearn: 0.5400861\ttest: 0.5431148\tbest: 0.5431148 (128)\ttotal: 2m 45s\tremaining: 3m 39s\n",
            "129:\tlearn: 0.5399758\ttest: 0.5430142\tbest: 0.5430142 (129)\ttotal: 2m 46s\tremaining: 3m 38s\n",
            "130:\tlearn: 0.5398351\ttest: 0.5428798\tbest: 0.5428798 (130)\ttotal: 2m 47s\tremaining: 3m 36s\n",
            "131:\tlearn: 0.5397135\ttest: 0.5427705\tbest: 0.5427705 (131)\ttotal: 2m 49s\tremaining: 3m 35s\n",
            "132:\tlearn: 0.5395827\ttest: 0.5426750\tbest: 0.5426750 (132)\ttotal: 2m 50s\tremaining: 3m 34s\n",
            "133:\tlearn: 0.5394994\ttest: 0.5426139\tbest: 0.5426139 (133)\ttotal: 2m 51s\tremaining: 3m 32s\n",
            "134:\tlearn: 0.5393506\ttest: 0.5424746\tbest: 0.5424746 (134)\ttotal: 2m 52s\tremaining: 3m 31s\n",
            "135:\tlearn: 0.5392827\ttest: 0.5424243\tbest: 0.5424243 (135)\ttotal: 2m 53s\tremaining: 3m 29s\n",
            "136:\tlearn: 0.5391715\ttest: 0.5423403\tbest: 0.5423403 (136)\ttotal: 2m 54s\tremaining: 3m 28s\n",
            "137:\tlearn: 0.5390386\ttest: 0.5422097\tbest: 0.5422097 (137)\ttotal: 2m 55s\tremaining: 3m 26s\n",
            "138:\tlearn: 0.5389618\ttest: 0.5421462\tbest: 0.5421462 (138)\ttotal: 2m 56s\tremaining: 3m 24s\n",
            "139:\tlearn: 0.5388751\ttest: 0.5420591\tbest: 0.5420591 (139)\ttotal: 2m 57s\tremaining: 3m 23s\n",
            "140:\tlearn: 0.5387713\ttest: 0.5419714\tbest: 0.5419714 (140)\ttotal: 2m 58s\tremaining: 3m 21s\n",
            "141:\tlearn: 0.5386944\ttest: 0.5419219\tbest: 0.5419219 (141)\ttotal: 2m 59s\tremaining: 3m 20s\n",
            "142:\tlearn: 0.5386188\ttest: 0.5418712\tbest: 0.5418712 (142)\ttotal: 3m\tremaining: 3m 18s\n",
            "143:\tlearn: 0.5384816\ttest: 0.5417352\tbest: 0.5417352 (143)\ttotal: 3m 1s\tremaining: 3m 16s\n",
            "144:\tlearn: 0.5384116\ttest: 0.5416816\tbest: 0.5416816 (144)\ttotal: 3m 2s\tremaining: 3m 15s\n",
            "145:\tlearn: 0.5383346\ttest: 0.5416122\tbest: 0.5416122 (145)\ttotal: 3m 3s\tremaining: 3m 13s\n",
            "146:\tlearn: 0.5381902\ttest: 0.5414685\tbest: 0.5414685 (146)\ttotal: 3m 4s\tremaining: 3m 12s\n",
            "147:\tlearn: 0.5380762\ttest: 0.5413631\tbest: 0.5413631 (147)\ttotal: 3m 5s\tremaining: 3m 10s\n",
            "148:\tlearn: 0.5379475\ttest: 0.5412439\tbest: 0.5412439 (148)\ttotal: 3m 6s\tremaining: 3m 8s\n",
            "149:\tlearn: 0.5378271\ttest: 0.5411265\tbest: 0.5411265 (149)\ttotal: 3m 7s\tremaining: 3m 7s\n",
            "150:\tlearn: 0.5377078\ttest: 0.5410177\tbest: 0.5410177 (150)\ttotal: 3m 8s\tremaining: 3m 5s\n",
            "151:\tlearn: 0.5375892\ttest: 0.5409077\tbest: 0.5409077 (151)\ttotal: 3m 9s\tremaining: 3m 4s\n",
            "152:\tlearn: 0.5374992\ttest: 0.5408367\tbest: 0.5408367 (152)\ttotal: 3m 10s\tremaining: 3m 2s\n",
            "153:\tlearn: 0.5373999\ttest: 0.5407445\tbest: 0.5407445 (153)\ttotal: 3m 11s\tremaining: 3m 1s\n",
            "154:\tlearn: 0.5373074\ttest: 0.5406727\tbest: 0.5406727 (154)\ttotal: 3m 12s\tremaining: 2m 59s\n",
            "155:\tlearn: 0.5372343\ttest: 0.5406141\tbest: 0.5406141 (155)\ttotal: 3m 13s\tremaining: 2m 58s\n",
            "156:\tlearn: 0.5371063\ttest: 0.5404931\tbest: 0.5404931 (156)\ttotal: 3m 14s\tremaining: 2m 56s\n",
            "157:\tlearn: 0.5370188\ttest: 0.5404194\tbest: 0.5404194 (157)\ttotal: 3m 15s\tremaining: 2m 55s\n",
            "158:\tlearn: 0.5368821\ttest: 0.5402938\tbest: 0.5402938 (158)\ttotal: 3m 16s\tremaining: 2m 53s\n",
            "159:\tlearn: 0.5367610\ttest: 0.5401769\tbest: 0.5401769 (159)\ttotal: 3m 17s\tremaining: 2m 52s\n",
            "160:\tlearn: 0.5366181\ttest: 0.5400249\tbest: 0.5400249 (160)\ttotal: 3m 18s\tremaining: 2m 50s\n",
            "161:\tlearn: 0.5365590\ttest: 0.5399826\tbest: 0.5399826 (161)\ttotal: 3m 18s\tremaining: 2m 49s\n",
            "162:\tlearn: 0.5364117\ttest: 0.5398367\tbest: 0.5398367 (162)\ttotal: 3m 20s\tremaining: 2m 48s\n",
            "163:\tlearn: 0.5363284\ttest: 0.5397645\tbest: 0.5397645 (163)\ttotal: 3m 21s\tremaining: 2m 46s\n",
            "164:\tlearn: 0.5362097\ttest: 0.5396628\tbest: 0.5396628 (164)\ttotal: 3m 22s\tremaining: 2m 45s\n",
            "165:\tlearn: 0.5361147\ttest: 0.5395700\tbest: 0.5395700 (165)\ttotal: 3m 23s\tremaining: 2m 44s\n",
            "166:\tlearn: 0.5359920\ttest: 0.5394599\tbest: 0.5394599 (166)\ttotal: 3m 24s\tremaining: 2m 42s\n",
            "167:\tlearn: 0.5359150\ttest: 0.5393954\tbest: 0.5393954 (167)\ttotal: 3m 25s\tremaining: 2m 41s\n",
            "168:\tlearn: 0.5358381\ttest: 0.5393342\tbest: 0.5393342 (168)\ttotal: 3m 26s\tremaining: 2m 39s\n",
            "169:\tlearn: 0.5357410\ttest: 0.5392535\tbest: 0.5392535 (169)\ttotal: 3m 27s\tremaining: 2m 38s\n",
            "170:\tlearn: 0.5355829\ttest: 0.5390932\tbest: 0.5390932 (170)\ttotal: 3m 28s\tremaining: 2m 36s\n",
            "171:\tlearn: 0.5355177\ttest: 0.5390534\tbest: 0.5390534 (171)\ttotal: 3m 28s\tremaining: 2m 35s\n",
            "172:\tlearn: 0.5354464\ttest: 0.5389922\tbest: 0.5389922 (172)\ttotal: 3m 29s\tremaining: 2m 34s\n",
            "173:\tlearn: 0.5353439\ttest: 0.5388903\tbest: 0.5388903 (173)\ttotal: 3m 30s\tremaining: 2m 32s\n",
            "174:\tlearn: 0.5352311\ttest: 0.5387713\tbest: 0.5387713 (174)\ttotal: 3m 31s\tremaining: 2m 31s\n",
            "175:\tlearn: 0.5351631\ttest: 0.5387219\tbest: 0.5387219 (175)\ttotal: 3m 32s\tremaining: 2m 29s\n",
            "176:\tlearn: 0.5350718\ttest: 0.5386432\tbest: 0.5386432 (176)\ttotal: 3m 33s\tremaining: 2m 28s\n",
            "177:\tlearn: 0.5349789\ttest: 0.5385644\tbest: 0.5385644 (177)\ttotal: 3m 34s\tremaining: 2m 27s\n",
            "178:\tlearn: 0.5348595\ttest: 0.5384559\tbest: 0.5384559 (178)\ttotal: 3m 35s\tremaining: 2m 25s\n",
            "179:\tlearn: 0.5347966\ttest: 0.5384086\tbest: 0.5384086 (179)\ttotal: 3m 36s\tremaining: 2m 24s\n",
            "180:\tlearn: 0.5346593\ttest: 0.5382845\tbest: 0.5382845 (180)\ttotal: 3m 37s\tremaining: 2m 22s\n",
            "181:\tlearn: 0.5345663\ttest: 0.5381969\tbest: 0.5381969 (181)\ttotal: 3m 38s\tremaining: 2m 21s\n",
            "182:\tlearn: 0.5345075\ttest: 0.5381529\tbest: 0.5381529 (182)\ttotal: 3m 39s\tremaining: 2m 20s\n",
            "183:\tlearn: 0.5344577\ttest: 0.5381177\tbest: 0.5381177 (183)\ttotal: 3m 40s\tremaining: 2m 18s\n",
            "184:\tlearn: 0.5343536\ttest: 0.5380158\tbest: 0.5380158 (184)\ttotal: 3m 41s\tremaining: 2m 17s\n",
            "185:\tlearn: 0.5342483\ttest: 0.5379168\tbest: 0.5379168 (185)\ttotal: 3m 42s\tremaining: 2m 16s\n",
            "186:\tlearn: 0.5341602\ttest: 0.5378400\tbest: 0.5378400 (186)\ttotal: 3m 43s\tremaining: 2m 14s\n",
            "187:\tlearn: 0.5340494\ttest: 0.5377326\tbest: 0.5377326 (187)\ttotal: 3m 44s\tremaining: 2m 13s\n",
            "188:\tlearn: 0.5339617\ttest: 0.5376609\tbest: 0.5376609 (188)\ttotal: 3m 45s\tremaining: 2m 12s\n",
            "189:\tlearn: 0.5338750\ttest: 0.5376014\tbest: 0.5376014 (189)\ttotal: 3m 46s\tremaining: 2m 10s\n",
            "190:\tlearn: 0.5338076\ttest: 0.5375516\tbest: 0.5375516 (190)\ttotal: 3m 47s\tremaining: 2m 9s\n",
            "191:\tlearn: 0.5336719\ttest: 0.5374172\tbest: 0.5374172 (191)\ttotal: 3m 48s\tremaining: 2m 8s\n",
            "192:\tlearn: 0.5335877\ttest: 0.5373339\tbest: 0.5373339 (192)\ttotal: 3m 49s\tremaining: 2m 7s\n",
            "193:\tlearn: 0.5334865\ttest: 0.5372425\tbest: 0.5372425 (193)\ttotal: 3m 50s\tremaining: 2m 5s\n",
            "194:\tlearn: 0.5333515\ttest: 0.5371270\tbest: 0.5371270 (194)\ttotal: 3m 51s\tremaining: 2m 4s\n",
            "195:\tlearn: 0.5332846\ttest: 0.5370859\tbest: 0.5370859 (195)\ttotal: 3m 52s\tremaining: 2m 3s\n",
            "196:\tlearn: 0.5332145\ttest: 0.5370334\tbest: 0.5370334 (196)\ttotal: 3m 53s\tremaining: 2m 2s\n",
            "197:\tlearn: 0.5331008\ttest: 0.5369357\tbest: 0.5369357 (197)\ttotal: 3m 54s\tremaining: 2m\n",
            "198:\tlearn: 0.5329887\ttest: 0.5368227\tbest: 0.5368227 (198)\ttotal: 3m 55s\tremaining: 1m 59s\n",
            "199:\tlearn: 0.5328429\ttest: 0.5366948\tbest: 0.5366948 (199)\ttotal: 3m 56s\tremaining: 1m 58s\n",
            "200:\tlearn: 0.5327897\ttest: 0.5366485\tbest: 0.5366485 (200)\ttotal: 3m 57s\tremaining: 1m 56s\n",
            "201:\tlearn: 0.5326324\ttest: 0.5364859\tbest: 0.5364859 (201)\ttotal: 3m 58s\tremaining: 1m 55s\n",
            "202:\tlearn: 0.5325455\ttest: 0.5363974\tbest: 0.5363974 (202)\ttotal: 3m 59s\tremaining: 1m 54s\n",
            "203:\tlearn: 0.5324544\ttest: 0.5363152\tbest: 0.5363152 (203)\ttotal: 4m\tremaining: 1m 52s\n",
            "204:\tlearn: 0.5323635\ttest: 0.5362332\tbest: 0.5362332 (204)\ttotal: 4m 1s\tremaining: 1m 51s\n",
            "205:\tlearn: 0.5322609\ttest: 0.5361276\tbest: 0.5361276 (205)\ttotal: 4m 1s\tremaining: 1m 50s\n",
            "206:\tlearn: 0.5321790\ttest: 0.5360601\tbest: 0.5360601 (206)\ttotal: 4m 2s\tremaining: 1m 49s\n",
            "207:\tlearn: 0.5320846\ttest: 0.5359690\tbest: 0.5359690 (207)\ttotal: 4m 3s\tremaining: 1m 47s\n",
            "208:\tlearn: 0.5320097\ttest: 0.5358935\tbest: 0.5358935 (208)\ttotal: 4m 4s\tremaining: 1m 46s\n",
            "209:\tlearn: 0.5319523\ttest: 0.5358657\tbest: 0.5358657 (209)\ttotal: 4m 5s\tremaining: 1m 45s\n",
            "210:\tlearn: 0.5319030\ttest: 0.5358349\tbest: 0.5358349 (210)\ttotal: 4m 6s\tremaining: 1m 44s\n",
            "211:\tlearn: 0.5317860\ttest: 0.5357095\tbest: 0.5357095 (211)\ttotal: 4m 8s\tremaining: 1m 43s\n",
            "212:\tlearn: 0.5317069\ttest: 0.5356340\tbest: 0.5356340 (212)\ttotal: 4m 13s\tremaining: 1m 43s\n",
            "213:\tlearn: 0.5316002\ttest: 0.5355389\tbest: 0.5355389 (213)\ttotal: 4m 16s\tremaining: 1m 43s\n",
            "214:\tlearn: 0.5315054\ttest: 0.5354721\tbest: 0.5354721 (214)\ttotal: 4m 19s\tremaining: 1m 42s\n",
            "215:\tlearn: 0.5314478\ttest: 0.5354148\tbest: 0.5354148 (215)\ttotal: 4m 20s\tremaining: 1m 41s\n",
            "216:\tlearn: 0.5313868\ttest: 0.5353682\tbest: 0.5353682 (216)\ttotal: 4m 22s\tremaining: 1m 40s\n",
            "217:\tlearn: 0.5313455\ttest: 0.5353426\tbest: 0.5353426 (217)\ttotal: 4m 24s\tremaining: 1m 39s\n",
            "218:\tlearn: 0.5312187\ttest: 0.5352219\tbest: 0.5352219 (218)\ttotal: 4m 26s\tremaining: 1m 38s\n",
            "219:\tlearn: 0.5311324\ttest: 0.5351426\tbest: 0.5351426 (219)\ttotal: 4m 28s\tremaining: 1m 37s\n",
            "220:\tlearn: 0.5310446\ttest: 0.5350681\tbest: 0.5350681 (220)\ttotal: 4m 29s\tremaining: 1m 36s\n",
            "221:\tlearn: 0.5309567\ttest: 0.5349853\tbest: 0.5349853 (221)\ttotal: 4m 30s\tremaining: 1m 35s\n",
            "222:\tlearn: 0.5308409\ttest: 0.5348696\tbest: 0.5348696 (222)\ttotal: 4m 31s\tremaining: 1m 33s\n",
            "223:\tlearn: 0.5307257\ttest: 0.5347706\tbest: 0.5347706 (223)\ttotal: 4m 32s\tremaining: 1m 32s\n",
            "224:\tlearn: 0.5306559\ttest: 0.5347072\tbest: 0.5347072 (224)\ttotal: 4m 34s\tremaining: 1m 31s\n",
            "225:\tlearn: 0.5305533\ttest: 0.5346128\tbest: 0.5346128 (225)\ttotal: 4m 35s\tremaining: 1m 30s\n",
            "226:\tlearn: 0.5304853\ttest: 0.5345485\tbest: 0.5345485 (226)\ttotal: 4m 36s\tremaining: 1m 28s\n",
            "227:\tlearn: 0.5304436\ttest: 0.5345275\tbest: 0.5345275 (227)\ttotal: 4m 37s\tremaining: 1m 27s\n",
            "228:\tlearn: 0.5303911\ttest: 0.5345057\tbest: 0.5345057 (228)\ttotal: 4m 38s\tremaining: 1m 26s\n",
            "229:\tlearn: 0.5303177\ttest: 0.5344410\tbest: 0.5344410 (229)\ttotal: 4m 39s\tremaining: 1m 25s\n",
            "230:\tlearn: 0.5301990\ttest: 0.5343247\tbest: 0.5343247 (230)\ttotal: 4m 40s\tremaining: 1m 23s\n",
            "231:\tlearn: 0.5301273\ttest: 0.5342614\tbest: 0.5342614 (231)\ttotal: 4m 42s\tremaining: 1m 22s\n",
            "232:\tlearn: 0.5300771\ttest: 0.5342278\tbest: 0.5342278 (232)\ttotal: 4m 43s\tremaining: 1m 21s\n",
            "233:\tlearn: 0.5300298\ttest: 0.5341991\tbest: 0.5341991 (233)\ttotal: 4m 44s\tremaining: 1m 20s\n",
            "234:\tlearn: 0.5299627\ttest: 0.5341589\tbest: 0.5341589 (234)\ttotal: 4m 45s\tremaining: 1m 18s\n",
            "235:\tlearn: 0.5298307\ttest: 0.5340432\tbest: 0.5340432 (235)\ttotal: 4m 46s\tremaining: 1m 17s\n",
            "236:\tlearn: 0.5297658\ttest: 0.5339955\tbest: 0.5339955 (236)\ttotal: 4m 47s\tremaining: 1m 16s\n",
            "237:\tlearn: 0.5297007\ttest: 0.5339582\tbest: 0.5339582 (237)\ttotal: 4m 48s\tremaining: 1m 15s\n",
            "238:\tlearn: 0.5296224\ttest: 0.5338959\tbest: 0.5338959 (238)\ttotal: 4m 49s\tremaining: 1m 13s\n",
            "239:\tlearn: 0.5295415\ttest: 0.5338301\tbest: 0.5338301 (239)\ttotal: 4m 50s\tremaining: 1m 12s\n",
            "240:\tlearn: 0.5294183\ttest: 0.5337219\tbest: 0.5337219 (240)\ttotal: 4m 52s\tremaining: 1m 11s\n",
            "241:\tlearn: 0.5293287\ttest: 0.5336342\tbest: 0.5336342 (241)\ttotal: 4m 53s\tremaining: 1m 10s\n",
            "242:\tlearn: 0.5292512\ttest: 0.5335696\tbest: 0.5335696 (242)\ttotal: 4m 54s\tremaining: 1m 8s\n",
            "243:\tlearn: 0.5291902\ttest: 0.5335195\tbest: 0.5335195 (243)\ttotal: 4m 55s\tremaining: 1m 7s\n",
            "244:\tlearn: 0.5291272\ttest: 0.5334758\tbest: 0.5334758 (244)\ttotal: 4m 56s\tremaining: 1m 6s\n",
            "245:\tlearn: 0.5290888\ttest: 0.5334538\tbest: 0.5334538 (245)\ttotal: 4m 57s\tremaining: 1m 5s\n",
            "246:\tlearn: 0.5289636\ttest: 0.5333504\tbest: 0.5333504 (246)\ttotal: 4m 58s\tremaining: 1m 4s\n",
            "247:\tlearn: 0.5289147\ttest: 0.5333184\tbest: 0.5333184 (247)\ttotal: 4m 59s\tremaining: 1m 2s\n",
            "248:\tlearn: 0.5288050\ttest: 0.5332200\tbest: 0.5332200 (248)\ttotal: 5m\tremaining: 1m 1s\n",
            "249:\tlearn: 0.5287099\ttest: 0.5331447\tbest: 0.5331447 (249)\ttotal: 5m 2s\tremaining: 1m\n",
            "250:\tlearn: 0.5286394\ttest: 0.5330731\tbest: 0.5330731 (250)\ttotal: 5m 3s\tremaining: 59.2s\n",
            "251:\tlearn: 0.5285010\ttest: 0.5329408\tbest: 0.5329408 (251)\ttotal: 5m 4s\tremaining: 58s\n",
            "252:\tlearn: 0.5283565\ttest: 0.5328087\tbest: 0.5328087 (252)\ttotal: 5m 5s\tremaining: 56.7s\n",
            "253:\tlearn: 0.5282668\ttest: 0.5327421\tbest: 0.5327421 (253)\ttotal: 5m 6s\tremaining: 55.5s\n",
            "254:\tlearn: 0.5281629\ttest: 0.5326604\tbest: 0.5326604 (254)\ttotal: 5m 7s\tremaining: 54.3s\n",
            "255:\tlearn: 0.5280533\ttest: 0.5325715\tbest: 0.5325715 (255)\ttotal: 5m 8s\tremaining: 53s\n",
            "256:\tlearn: 0.5279941\ttest: 0.5325179\tbest: 0.5325179 (256)\ttotal: 5m 9s\tremaining: 51.8s\n",
            "257:\tlearn: 0.5279231\ttest: 0.5324547\tbest: 0.5324547 (257)\ttotal: 5m 10s\tremaining: 50.6s\n",
            "258:\tlearn: 0.5278563\ttest: 0.5324015\tbest: 0.5324015 (258)\ttotal: 5m 11s\tremaining: 49.3s\n",
            "259:\tlearn: 0.5277632\ttest: 0.5323234\tbest: 0.5323234 (259)\ttotal: 5m 12s\tremaining: 48.1s\n",
            "260:\tlearn: 0.5277031\ttest: 0.5322696\tbest: 0.5322696 (260)\ttotal: 5m 13s\tremaining: 46.9s\n",
            "261:\tlearn: 0.5275922\ttest: 0.5321708\tbest: 0.5321708 (261)\ttotal: 5m 14s\tremaining: 45.6s\n",
            "262:\tlearn: 0.5275288\ttest: 0.5321122\tbest: 0.5321122 (262)\ttotal: 5m 15s\tremaining: 44.4s\n",
            "263:\tlearn: 0.5274313\ttest: 0.5320308\tbest: 0.5320308 (263)\ttotal: 5m 16s\tremaining: 43.2s\n",
            "264:\tlearn: 0.5273737\ttest: 0.5319908\tbest: 0.5319908 (264)\ttotal: 5m 18s\tremaining: 42s\n",
            "265:\tlearn: 0.5273209\ttest: 0.5319601\tbest: 0.5319601 (265)\ttotal: 5m 19s\tremaining: 40.8s\n",
            "266:\tlearn: 0.5272624\ttest: 0.5319179\tbest: 0.5319179 (266)\ttotal: 5m 20s\tremaining: 39.6s\n",
            "267:\tlearn: 0.5271677\ttest: 0.5318507\tbest: 0.5318507 (267)\ttotal: 5m 21s\tremaining: 38.4s\n",
            "268:\tlearn: 0.5270533\ttest: 0.5317436\tbest: 0.5317436 (268)\ttotal: 5m 22s\tremaining: 37.2s\n",
            "269:\tlearn: 0.5269942\ttest: 0.5317001\tbest: 0.5317001 (269)\ttotal: 5m 23s\tremaining: 36s\n",
            "270:\tlearn: 0.5269382\ttest: 0.5316559\tbest: 0.5316559 (270)\ttotal: 5m 24s\tremaining: 34.8s\n",
            "271:\tlearn: 0.5268576\ttest: 0.5315910\tbest: 0.5315910 (271)\ttotal: 5m 26s\tremaining: 33.6s\n",
            "272:\tlearn: 0.5267567\ttest: 0.5315046\tbest: 0.5315046 (272)\ttotal: 5m 27s\tremaining: 32.4s\n",
            "273:\tlearn: 0.5267014\ttest: 0.5314597\tbest: 0.5314597 (273)\ttotal: 5m 28s\tremaining: 31.1s\n",
            "274:\tlearn: 0.5266373\ttest: 0.5314146\tbest: 0.5314146 (274)\ttotal: 5m 29s\tremaining: 29.9s\n",
            "275:\tlearn: 0.5265170\ttest: 0.5313018\tbest: 0.5313018 (275)\ttotal: 5m 30s\tremaining: 28.7s\n",
            "276:\tlearn: 0.5264449\ttest: 0.5312358\tbest: 0.5312358 (276)\ttotal: 5m 31s\tremaining: 27.5s\n",
            "277:\tlearn: 0.5263916\ttest: 0.5311824\tbest: 0.5311824 (277)\ttotal: 5m 32s\tremaining: 26.3s\n",
            "278:\tlearn: 0.5263090\ttest: 0.5311111\tbest: 0.5311111 (278)\ttotal: 5m 33s\tremaining: 25.1s\n",
            "279:\tlearn: 0.5262461\ttest: 0.5310693\tbest: 0.5310693 (279)\ttotal: 5m 34s\tremaining: 23.9s\n",
            "280:\tlearn: 0.5261689\ttest: 0.5310112\tbest: 0.5310112 (280)\ttotal: 5m 35s\tremaining: 22.7s\n",
            "281:\tlearn: 0.5260995\ttest: 0.5309664\tbest: 0.5309664 (281)\ttotal: 5m 36s\tremaining: 21.5s\n",
            "282:\tlearn: 0.5260544\ttest: 0.5309409\tbest: 0.5309409 (282)\ttotal: 5m 37s\tremaining: 20.3s\n",
            "283:\tlearn: 0.5259803\ttest: 0.5308694\tbest: 0.5308694 (283)\ttotal: 5m 39s\tremaining: 19.1s\n",
            "284:\tlearn: 0.5259306\ttest: 0.5308502\tbest: 0.5308502 (284)\ttotal: 5m 40s\tremaining: 17.9s\n",
            "285:\tlearn: 0.5258459\ttest: 0.5307734\tbest: 0.5307734 (285)\ttotal: 5m 41s\tremaining: 16.7s\n",
            "286:\tlearn: 0.5257945\ttest: 0.5307170\tbest: 0.5307170 (286)\ttotal: 5m 42s\tremaining: 15.5s\n",
            "287:\tlearn: 0.5257505\ttest: 0.5306843\tbest: 0.5306843 (287)\ttotal: 5m 43s\tremaining: 14.3s\n",
            "288:\tlearn: 0.5256907\ttest: 0.5306444\tbest: 0.5306444 (288)\ttotal: 5m 44s\tremaining: 13.1s\n",
            "289:\tlearn: 0.5255764\ttest: 0.5305530\tbest: 0.5305530 (289)\ttotal: 5m 45s\tremaining: 11.9s\n",
            "290:\tlearn: 0.5255204\ttest: 0.5305186\tbest: 0.5305186 (290)\ttotal: 5m 47s\tremaining: 10.7s\n",
            "291:\tlearn: 0.5254833\ttest: 0.5304981\tbest: 0.5304981 (291)\ttotal: 5m 48s\tremaining: 9.54s\n",
            "292:\tlearn: 0.5254331\ttest: 0.5304552\tbest: 0.5304552 (292)\ttotal: 5m 49s\tremaining: 8.34s\n",
            "293:\tlearn: 0.5253249\ttest: 0.5303486\tbest: 0.5303486 (293)\ttotal: 5m 50s\tremaining: 7.15s\n",
            "294:\tlearn: 0.5252510\ttest: 0.5302890\tbest: 0.5302890 (294)\ttotal: 5m 51s\tremaining: 5.95s\n",
            "295:\tlearn: 0.5251994\ttest: 0.5302548\tbest: 0.5302548 (295)\ttotal: 5m 52s\tremaining: 4.76s\n",
            "296:\tlearn: 0.5250944\ttest: 0.5301685\tbest: 0.5301685 (296)\ttotal: 5m 53s\tremaining: 3.57s\n",
            "297:\tlearn: 0.5250399\ttest: 0.5301146\tbest: 0.5301146 (297)\ttotal: 5m 54s\tremaining: 2.38s\n",
            "298:\tlearn: 0.5249928\ttest: 0.5300895\tbest: 0.5300895 (298)\ttotal: 5m 55s\tremaining: 1.19s\n",
            "299:\tlearn: 0.5248919\ttest: 0.5300087\tbest: 0.5300087 (299)\ttotal: 5m 56s\tremaining: 0us\n",
            "\n",
            "bestTest = 0.530008657\n",
            "bestIteration = 299\n",
            "\n"
          ]
        }
      ],
      "source": [
        "cat_boost = CatBoostClassifier(\n",
        "    iterations=300,\n",
        "    learning_rate=0.1,\n",
        "    depth = 10,\n",
        "    #loss_function='CrossEntropy'\n",
        "    ).fit(X_train, y_train,\n",
        "        eval_set=(X_test, y_test),\n",
        "        verbose=True, plot=True)"
      ]
    },
    {
      "cell_type": "code",
      "execution_count": 142,
      "metadata": {
        "colab": {
          "base_uri": "https://localhost:8080/"
        },
        "id": "hlt00f6yjC2S",
        "outputId": "1e8710be-fae7-4e48-8b7f-f8f3f3037a40"
      },
      "outputs": [],
      "source": [
        "mlp = MLPClassifier(random_state=RANDOM_STATE, max_iter=30).fit(X_train, y_train)"
      ]
    },
    {
      "cell_type": "markdown",
      "metadata": {
        "id": "kXKxcK1ZYG2X"
      },
      "source": [
        "## Predicting"
      ]
    },
    {
      "cell_type": "markdown",
      "metadata": {},
      "source": [
        "Считаем метрики"
      ]
    },
    {
      "cell_type": "code",
      "execution_count": 143,
      "metadata": {
        "colab": {
          "base_uri": "https://localhost:8080/"
        },
        "id": "mijlU4Pxm4Lc",
        "outputId": "580cf23e-9528-4d7a-8212-b06eb366d83a"
      },
      "outputs": [
        {
          "name": "stdout",
          "output_type": "stream",
          "text": [
            "Logistic Regression - balanced accuracy: 0.5195753990495173\n",
            "Logistic Regression -  accuracy: 0.6117616637730413\n",
            "Logistic Regression -  f1: 0.19504406843568836\n",
            "Logistic Regression -  recall: 0.12251680137371584\n",
            "Logistic Regression -  precision: 0.47802356474529284\n",
            "\n",
            "\n",
            "Decision Tree - balanced accuracy: 0.6749943721019361\n",
            "Decision Tree -  accuracy: 0.7033640881670138\n",
            "Decision Tree -  f1: 0.5886298168807065\n",
            "Decision Tree -  recall: 0.5528022026822986\n",
            "Decision Tree -  precision: 0.6294233151583081\n",
            "\n",
            "\n",
            "Random Forest - balanced accuracy: 0.5757673389918464\n",
            "Random Forest -  accuracy: 0.6567374113087238\n",
            "Random Forest -  f1: 0.3367847770469843\n",
            "Random Forest -  recall: 0.2270183852917666\n",
            "Random Forest -  precision: 0.6520685403290957\n",
            "\n",
            "\n",
            "CatBoost - balanced accuracy: 0.7013076483733627\n",
            "CatBoost -  accuracy: 0.7343310894712763\n",
            "CatBoost -  f1: 0.6177089935191054\n",
            "CatBoost -  recall: 0.5590712615093111\n",
            "CatBoost -  precision: 0.6900883451949167\n",
            "\n",
            "\n",
            "MLP - balanced accuracy: 0.5\n",
            "MLP -  accuracy: 0.6160864734615242\n",
            "MLP -  f1: 0.0\n",
            "MLP -  recall: 0.0\n",
            "MLP -  precision: 0.0\n",
            "\n",
            "\n"
          ]
        }
      ],
      "source": [
        "metrics(X_test, y_test)"
      ]
    },
    {
      "cell_type": "markdown",
      "metadata": {},
      "source": [
        "По метрикам можем определить, что с задачей лучше всего справился catboost, поэтому в дальнейшем будем использовать его"
      ]
    },
    {
      "cell_type": "markdown",
      "metadata": {},
      "source": [
        "Считаем метрики на трейне, чтобы оценить, есть ли переобучение"
      ]
    },
    {
      "cell_type": "code",
      "execution_count": 144,
      "metadata": {},
      "outputs": [
        {
          "name": "stdout",
          "output_type": "stream",
          "text": [
            "Logistic Regression - balanced accuracy: 0.5209715617377889\n",
            "Logistic Regression -  accuracy: 0.613088658598614\n",
            "Logistic Regression -  f1: 0.19763940531398974\n",
            "Logistic Regression -  recall: 0.12411373762193047\n",
            "Logistic Regression -  precision: 0.4848922943472604\n",
            "\n",
            "\n",
            "Decision Tree - balanced accuracy: 0.6759733226761732\n",
            "Decision Tree -  accuracy: 0.7041530865179788\n",
            "Decision Tree -  f1: 0.5900648345014043\n",
            "Decision Tree -  recall: 0.5545695860901829\n",
            "Decision Tree -  precision: 0.6304145423544391\n",
            "\n",
            "\n",
            "Random Forest - balanced accuracy: 0.5778065746631325\n",
            "Random Forest -  accuracy: 0.6586952259443117\n",
            "Random Forest -  f1: 0.34034412625651483\n",
            "Random Forest -  recall: 0.22932301149119041\n",
            "Random Forest -  precision: 0.659742084755747\n",
            "\n",
            "\n",
            "CatBoost - balanced accuracy: 0.7065020364024361\n",
            "CatBoost -  accuracy: 0.7392232581180164\n",
            "CatBoost -  f1: 0.6248034210863421\n",
            "CatBoost -  recall: 0.5655328428978128\n",
            "CatBoost -  precision: 0.6979521872564303\n",
            "\n",
            "\n",
            "MLP - balanced accuracy: 0.5\n",
            "MLP -  accuracy: 0.6160580581547668\n",
            "MLP -  f1: 0.0\n",
            "MLP -  recall: 0.0\n",
            "MLP -  precision: 0.0\n",
            "\n",
            "\n"
          ]
        }
      ],
      "source": [
        "metrics(X_train, y_train)"
      ]
    },
    {
      "cell_type": "markdown",
      "metadata": {},
      "source": [
        "Так как метрики и тестовой и трейн выборки находятся в одном диапазоне, значит переобучения не произошло"
      ]
    },
    {
      "cell_type": "markdown",
      "metadata": {},
      "source": [
        "Выгрузили для проверки собственной модели"
      ]
    },
    {
      "cell_type": "code",
      "execution_count": 42,
      "metadata": {},
      "outputs": [],
      "source": [
        "X_val.to_csv('val_data.csv', index=False)"
      ]
    },
    {
      "cell_type": "markdown",
      "metadata": {},
      "source": [
        "Оптимизация гиперпарамтеров"
      ]
    },
    {
      "cell_type": "code",
      "execution_count": null,
      "metadata": {},
      "outputs": [],
      "source": [
        "# MODEL_TYPE = 'CatBoostClassifier'\n",
        "\n",
        "# params_cat = lambda trial: {\n",
        "#             \"objective\": trial.suggest_categorical(\"objective\", [\"Logloss\", \"CrossEntropy\"]),\n",
        "#             \"colsample_bylevel\": trial.suggest_float(\"colsample_bylevel\", 0.01, 0.1),\n",
        "#             \"depth\": trial.suggest_int(\"depth\", 4, 12),\n",
        "#             \"boosting_type\": trial.suggest_categorical(\"boosting_type\", [\"Ordered\", \"Plain\"]),\n",
        "#             \"bootstrap_type\": trial.suggest_categorical(\"bootstrap_type\", [\"Bayesian\", \"Bernoulli\", \"MVS\"])\n",
        "#             }\n",
        "\n",
        "# params_cat_opt = lambda trial: optuna_optimize(trial)\n",
        "\n",
        "# study_cat_boost = optuna.create_study(study_name='Cat Boost optimize', direction='maximize')\n",
        "# study_cat_boost.optimize(\n",
        "#     params_cat_opt,\n",
        "#     n_trials=N_TRIALS,\n",
        "#     timeout=60, \n",
        "# )"
      ]
    },
    {
      "cell_type": "code",
      "execution_count": null,
      "metadata": {},
      "outputs": [],
      "source": [
        "# study_cat_boost.best_trial.value"
      ]
    },
    {
      "cell_type": "code",
      "execution_count": null,
      "metadata": {},
      "outputs": [],
      "source": [
        "# cat_boost = CatBoostClassifier(**study_cat_boost.best_params, random_state=RANDOM_STATE, verbose=100)\n",
        "# cat_boost = cat_boost.fit(X_train, y_train)"
      ]
    },
    {
      "cell_type": "markdown",
      "metadata": {},
      "source": [
        "## Age predicting"
      ]
    },
    {
      "cell_type": "code",
      "execution_count": 155,
      "metadata": {},
      "outputs": [],
      "source": [
        "X_age = merged_data.drop(columns=['age_class', 'age', 'sex'])\n",
        "y_age = merged_data['age_class']\n",
        "\n",
        "X_train_age, X_temp_age, y_train_age, y_temp_age = train_test_split(X_age, y_age, test_size=0.4, random_state=RANDOM_STATE)\n",
        "X_test_age, X_val_age, y_test_age, y_val_age = train_test_split(X_temp_age, y_temp_age, test_size=0.5, random_state=RANDOM_STATE)"
      ]
    },
    {
      "cell_type": "code",
      "execution_count": 156,
      "metadata": {},
      "outputs": [
        {
          "data": {
            "application/vnd.jupyter.widget-view+json": {
              "model_id": "e830abbdb70f4d36854daf3d020e0d90",
              "version_major": 2,
              "version_minor": 0
            },
            "text/plain": [
              "MetricVisualizer(layout=Layout(align_self='stretch', height='500px'))"
            ]
          },
          "metadata": {},
          "output_type": "display_data"
        },
        {
          "name": "stdout",
          "output_type": "stream",
          "text": [
            "0:\tlearn: 1.3446844\ttest: 1.3446665\tbest: 1.3446665 (0)\ttotal: 9.61s\tremaining: 15m 51s\n",
            "1:\tlearn: 1.3106564\ttest: 1.3106323\tbest: 1.3106323 (1)\ttotal: 13s\tremaining: 10m 38s\n",
            "2:\tlearn: 1.2822647\ttest: 1.2822601\tbest: 1.2822601 (2)\ttotal: 15.6s\tremaining: 8m 24s\n",
            "3:\tlearn: 1.2583107\ttest: 1.2583322\tbest: 1.2583322 (3)\ttotal: 18.2s\tremaining: 7m 17s\n",
            "4:\tlearn: 1.2383662\ttest: 1.2383871\tbest: 1.2383871 (4)\ttotal: 20.8s\tremaining: 6m 35s\n",
            "5:\tlearn: 1.2211925\ttest: 1.2212260\tbest: 1.2212260 (5)\ttotal: 23.3s\tremaining: 6m 5s\n",
            "6:\tlearn: 1.2065755\ttest: 1.2066276\tbest: 1.2066276 (6)\ttotal: 25.9s\tremaining: 5m 43s\n",
            "7:\tlearn: 1.1939600\ttest: 1.1940012\tbest: 1.1940012 (7)\ttotal: 28.3s\tremaining: 5m 26s\n",
            "8:\tlearn: 1.1825611\ttest: 1.1826267\tbest: 1.1826267 (8)\ttotal: 30.8s\tremaining: 5m 11s\n",
            "9:\tlearn: 1.1731872\ttest: 1.1732830\tbest: 1.1732830 (9)\ttotal: 33.4s\tremaining: 5m\n",
            "10:\tlearn: 1.1648772\ttest: 1.1650017\tbest: 1.1650017 (10)\ttotal: 35.9s\tremaining: 4m 50s\n",
            "11:\tlearn: 1.1577076\ttest: 1.1578331\tbest: 1.1578331 (11)\ttotal: 38.4s\tremaining: 4m 41s\n",
            "12:\tlearn: 1.1513022\ttest: 1.1514222\tbest: 1.1514222 (12)\ttotal: 40.9s\tremaining: 4m 33s\n",
            "13:\tlearn: 1.1459333\ttest: 1.1460684\tbest: 1.1460684 (13)\ttotal: 43.4s\tremaining: 4m 26s\n",
            "14:\tlearn: 1.1413241\ttest: 1.1414450\tbest: 1.1414450 (14)\ttotal: 45.9s\tremaining: 4m 20s\n",
            "15:\tlearn: 1.1372749\ttest: 1.1374141\tbest: 1.1374141 (15)\ttotal: 48.4s\tremaining: 4m 14s\n",
            "16:\tlearn: 1.1335702\ttest: 1.1337114\tbest: 1.1337114 (16)\ttotal: 51.7s\tremaining: 4m 12s\n",
            "17:\tlearn: 1.1303404\ttest: 1.1304904\tbest: 1.1304904 (17)\ttotal: 55.2s\tremaining: 4m 11s\n",
            "18:\tlearn: 1.1275661\ttest: 1.1277478\tbest: 1.1277478 (18)\ttotal: 57.9s\tremaining: 4m 6s\n",
            "19:\tlearn: 1.1251607\ttest: 1.1253417\tbest: 1.1253417 (19)\ttotal: 1m\tremaining: 4m 2s\n",
            "20:\tlearn: 1.1229863\ttest: 1.1231950\tbest: 1.1231950 (20)\ttotal: 1m 3s\tremaining: 3m 57s\n",
            "21:\tlearn: 1.1210070\ttest: 1.1212157\tbest: 1.1212157 (21)\ttotal: 1m 5s\tremaining: 3m 53s\n",
            "22:\tlearn: 1.1195483\ttest: 1.1197447\tbest: 1.1197447 (22)\ttotal: 1m 8s\tremaining: 3m 48s\n",
            "23:\tlearn: 1.1179935\ttest: 1.1181907\tbest: 1.1181907 (23)\ttotal: 1m 10s\tremaining: 3m 44s\n",
            "24:\tlearn: 1.1166418\ttest: 1.1168482\tbest: 1.1168482 (24)\ttotal: 1m 13s\tremaining: 3m 40s\n",
            "25:\tlearn: 1.1154424\ttest: 1.1156704\tbest: 1.1156704 (25)\ttotal: 1m 15s\tremaining: 3m 35s\n",
            "26:\tlearn: 1.1143187\ttest: 1.1145579\tbest: 1.1145579 (26)\ttotal: 1m 18s\tremaining: 3m 31s\n",
            "27:\tlearn: 1.1134043\ttest: 1.1136739\tbest: 1.1136739 (27)\ttotal: 1m 20s\tremaining: 3m 27s\n",
            "28:\tlearn: 1.1125814\ttest: 1.1128864\tbest: 1.1128864 (28)\ttotal: 1m 23s\tremaining: 3m 23s\n",
            "29:\tlearn: 1.1118240\ttest: 1.1121399\tbest: 1.1121399 (29)\ttotal: 1m 25s\tremaining: 3m 20s\n",
            "30:\tlearn: 1.1111099\ttest: 1.1114266\tbest: 1.1114266 (30)\ttotal: 1m 28s\tremaining: 3m 16s\n",
            "31:\tlearn: 1.1103335\ttest: 1.1106803\tbest: 1.1106803 (31)\ttotal: 1m 30s\tremaining: 3m 13s\n",
            "32:\tlearn: 1.1098820\ttest: 1.1102209\tbest: 1.1102209 (32)\ttotal: 1m 33s\tremaining: 3m 9s\n",
            "33:\tlearn: 1.1093813\ttest: 1.1097181\tbest: 1.1097181 (33)\ttotal: 1m 36s\tremaining: 3m 6s\n",
            "34:\tlearn: 1.1088865\ttest: 1.1092279\tbest: 1.1092279 (34)\ttotal: 1m 39s\tremaining: 3m 3s\n",
            "35:\tlearn: 1.1084140\ttest: 1.1087799\tbest: 1.1087799 (35)\ttotal: 1m 41s\tremaining: 3m\n",
            "36:\tlearn: 1.1078962\ttest: 1.1082960\tbest: 1.1082960 (36)\ttotal: 1m 44s\tremaining: 2m 57s\n",
            "37:\tlearn: 1.1072356\ttest: 1.1076686\tbest: 1.1076686 (37)\ttotal: 1m 46s\tremaining: 2m 53s\n",
            "38:\tlearn: 1.1068258\ttest: 1.1072717\tbest: 1.1072717 (38)\ttotal: 1m 49s\tremaining: 2m 50s\n",
            "39:\tlearn: 1.1064887\ttest: 1.1069668\tbest: 1.1069668 (39)\ttotal: 1m 51s\tremaining: 2m 47s\n",
            "40:\tlearn: 1.1059612\ttest: 1.1064790\tbest: 1.1064790 (40)\ttotal: 1m 53s\tremaining: 2m 44s\n",
            "41:\tlearn: 1.1056974\ttest: 1.1062270\tbest: 1.1062270 (41)\ttotal: 1m 56s\tremaining: 2m 40s\n",
            "42:\tlearn: 1.1053433\ttest: 1.1058913\tbest: 1.1058913 (42)\ttotal: 1m 58s\tremaining: 2m 37s\n",
            "43:\tlearn: 1.1051046\ttest: 1.1056751\tbest: 1.1056751 (43)\ttotal: 2m 1s\tremaining: 2m 34s\n",
            "44:\tlearn: 1.1048350\ttest: 1.1054181\tbest: 1.1054181 (44)\ttotal: 2m 3s\tremaining: 2m 31s\n",
            "45:\tlearn: 1.1044325\ttest: 1.1050301\tbest: 1.1050301 (45)\ttotal: 2m 6s\tremaining: 2m 28s\n",
            "46:\tlearn: 1.1039426\ttest: 1.1045712\tbest: 1.1045712 (46)\ttotal: 2m 8s\tremaining: 2m 25s\n",
            "47:\tlearn: 1.1036243\ttest: 1.1042313\tbest: 1.1042313 (47)\ttotal: 2m 11s\tremaining: 2m 22s\n",
            "48:\tlearn: 1.1033370\ttest: 1.1039556\tbest: 1.1039556 (48)\ttotal: 2m 13s\tremaining: 2m 19s\n",
            "49:\tlearn: 1.1031073\ttest: 1.1037376\tbest: 1.1037376 (49)\ttotal: 2m 16s\tremaining: 2m 16s\n",
            "50:\tlearn: 1.1029082\ttest: 1.1035730\tbest: 1.1035730 (50)\ttotal: 2m 19s\tremaining: 2m 14s\n",
            "51:\tlearn: 1.1026078\ttest: 1.1032942\tbest: 1.1032942 (51)\ttotal: 2m 22s\tremaining: 2m 11s\n",
            "52:\tlearn: 1.1024703\ttest: 1.1031956\tbest: 1.1031956 (52)\ttotal: 2m 25s\tremaining: 2m 8s\n",
            "53:\tlearn: 1.1022700\ttest: 1.1030202\tbest: 1.1030202 (53)\ttotal: 2m 27s\tremaining: 2m 5s\n",
            "54:\tlearn: 1.1021154\ttest: 1.1028793\tbest: 1.1028793 (54)\ttotal: 2m 30s\tremaining: 2m 2s\n",
            "55:\tlearn: 1.1019140\ttest: 1.1026933\tbest: 1.1026933 (55)\ttotal: 2m 32s\tremaining: 1m 59s\n",
            "56:\tlearn: 1.1017265\ttest: 1.1025181\tbest: 1.1025181 (56)\ttotal: 2m 34s\tremaining: 1m 56s\n",
            "57:\tlearn: 1.1015018\ttest: 1.1023276\tbest: 1.1023276 (57)\ttotal: 2m 37s\tremaining: 1m 54s\n",
            "58:\tlearn: 1.1013256\ttest: 1.1021713\tbest: 1.1021713 (58)\ttotal: 2m 39s\tremaining: 1m 51s\n",
            "59:\tlearn: 1.1011358\ttest: 1.1019989\tbest: 1.1019989 (59)\ttotal: 2m 42s\tremaining: 1m 48s\n",
            "60:\tlearn: 1.1008633\ttest: 1.1017571\tbest: 1.1017571 (60)\ttotal: 2m 44s\tremaining: 1m 45s\n",
            "61:\tlearn: 1.1007655\ttest: 1.1016725\tbest: 1.1016725 (61)\ttotal: 2m 47s\tremaining: 1m 42s\n",
            "62:\tlearn: 1.1004991\ttest: 1.1014318\tbest: 1.1014318 (62)\ttotal: 2m 50s\tremaining: 1m 39s\n",
            "63:\tlearn: 1.1002352\ttest: 1.1011728\tbest: 1.1011728 (63)\ttotal: 2m 52s\tremaining: 1m 37s\n",
            "64:\tlearn: 1.0999505\ttest: 1.1008930\tbest: 1.1008930 (64)\ttotal: 2m 55s\tremaining: 1m 34s\n",
            "65:\tlearn: 1.0997830\ttest: 1.1007632\tbest: 1.1007632 (65)\ttotal: 2m 57s\tremaining: 1m 31s\n",
            "66:\tlearn: 1.0995252\ttest: 1.1005234\tbest: 1.1005234 (66)\ttotal: 3m\tremaining: 1m 28s\n",
            "67:\tlearn: 1.0993494\ttest: 1.1003386\tbest: 1.1003386 (67)\ttotal: 3m 2s\tremaining: 1m 26s\n",
            "68:\tlearn: 1.0991247\ttest: 1.1001464\tbest: 1.1001464 (68)\ttotal: 3m 5s\tremaining: 1m 23s\n",
            "69:\tlearn: 1.0989807\ttest: 1.1000132\tbest: 1.1000132 (69)\ttotal: 3m 8s\tremaining: 1m 20s\n",
            "70:\tlearn: 1.0988534\ttest: 1.0999103\tbest: 1.0999103 (70)\ttotal: 3m 11s\tremaining: 1m 18s\n",
            "71:\tlearn: 1.0987783\ttest: 1.0998403\tbest: 1.0998403 (71)\ttotal: 3m 13s\tremaining: 1m 15s\n",
            "72:\tlearn: 1.0985452\ttest: 1.0996248\tbest: 1.0996248 (72)\ttotal: 3m 16s\tremaining: 1m 12s\n",
            "73:\tlearn: 1.0983739\ttest: 1.0994791\tbest: 1.0994791 (73)\ttotal: 3m 18s\tremaining: 1m 9s\n",
            "74:\tlearn: 1.0982279\ttest: 1.0993327\tbest: 1.0993327 (74)\ttotal: 3m 20s\tremaining: 1m 6s\n",
            "75:\tlearn: 1.0980756\ttest: 1.0992049\tbest: 1.0992049 (75)\ttotal: 3m 23s\tremaining: 1m 4s\n",
            "76:\tlearn: 1.0979055\ttest: 1.0990723\tbest: 1.0990723 (76)\ttotal: 3m 25s\tremaining: 1m 1s\n",
            "77:\tlearn: 1.0977795\ttest: 1.0989720\tbest: 1.0989720 (77)\ttotal: 3m 28s\tremaining: 58.8s\n",
            "78:\tlearn: 1.0975791\ttest: 1.0987779\tbest: 1.0987779 (78)\ttotal: 3m 30s\tremaining: 56s\n",
            "79:\tlearn: 1.0974797\ttest: 1.0987130\tbest: 1.0987130 (79)\ttotal: 3m 33s\tremaining: 53.3s\n",
            "80:\tlearn: 1.0973681\ttest: 1.0986129\tbest: 1.0986129 (80)\ttotal: 3m 35s\tremaining: 50.6s\n",
            "81:\tlearn: 1.0972426\ttest: 1.0985060\tbest: 1.0985060 (81)\ttotal: 3m 37s\tremaining: 47.8s\n",
            "82:\tlearn: 1.0970786\ttest: 1.0983422\tbest: 1.0983422 (82)\ttotal: 3m 40s\tremaining: 45.1s\n",
            "83:\tlearn: 1.0969831\ttest: 1.0982802\tbest: 1.0982802 (83)\ttotal: 3m 42s\tremaining: 42.4s\n",
            "84:\tlearn: 1.0967906\ttest: 1.0981027\tbest: 1.0981027 (84)\ttotal: 3m 45s\tremaining: 39.7s\n",
            "85:\tlearn: 1.0966519\ttest: 1.0979915\tbest: 1.0979915 (85)\ttotal: 3m 47s\tremaining: 37.1s\n",
            "86:\tlearn: 1.0965022\ttest: 1.0978683\tbest: 1.0978683 (86)\ttotal: 3m 50s\tremaining: 34.5s\n",
            "87:\tlearn: 1.0963989\ttest: 1.0977867\tbest: 1.0977867 (87)\ttotal: 3m 53s\tremaining: 31.8s\n",
            "88:\tlearn: 1.0962008\ttest: 1.0975910\tbest: 1.0975910 (88)\ttotal: 3m 55s\tremaining: 29.1s\n",
            "89:\tlearn: 1.0959821\ttest: 1.0973974\tbest: 1.0973974 (89)\ttotal: 3m 57s\tremaining: 26.4s\n",
            "90:\tlearn: 1.0958121\ttest: 1.0972440\tbest: 1.0972440 (90)\ttotal: 4m\tremaining: 23.8s\n",
            "91:\tlearn: 1.0957699\ttest: 1.0972140\tbest: 1.0972140 (91)\ttotal: 4m 2s\tremaining: 21.1s\n",
            "92:\tlearn: 1.0956860\ttest: 1.0971291\tbest: 1.0971291 (92)\ttotal: 4m 5s\tremaining: 18.5s\n",
            "93:\tlearn: 1.0955847\ttest: 1.0970468\tbest: 1.0970468 (93)\ttotal: 4m 7s\tremaining: 15.8s\n",
            "94:\tlearn: 1.0953780\ttest: 1.0968628\tbest: 1.0968628 (94)\ttotal: 4m 10s\tremaining: 13.2s\n",
            "95:\tlearn: 1.0952858\ttest: 1.0967852\tbest: 1.0967852 (95)\ttotal: 4m 12s\tremaining: 10.5s\n",
            "96:\tlearn: 1.0950578\ttest: 1.0965673\tbest: 1.0965673 (96)\ttotal: 4m 15s\tremaining: 7.89s\n",
            "97:\tlearn: 1.0949187\ttest: 1.0964436\tbest: 1.0964436 (97)\ttotal: 4m 17s\tremaining: 5.26s\n",
            "98:\tlearn: 1.0948187\ttest: 1.0963610\tbest: 1.0963610 (98)\ttotal: 4m 20s\tremaining: 2.63s\n",
            "99:\tlearn: 1.0946648\ttest: 1.0962129\tbest: 1.0962129 (99)\ttotal: 4m 22s\tremaining: 0us\n",
            "\n",
            "bestTest = 1.096212876\n",
            "bestIteration = 99\n",
            "\n"
          ]
        }
      ],
      "source": [
        "cat_boost_age = CatBoostClassifier(\n",
        "    iterations=100,\n",
        "    learning_rate=0.1,\n",
        "    depth=8,\n",
        "    #loss_function='CrossEntropy'\n",
        "    ).fit(X_train_age, y_train_age,\n",
        "        eval_set=(X_test_age, y_test_age),\n",
        "        verbose=True, plot=True)"
      ]
    },
    {
      "cell_type": "code",
      "execution_count": 157,
      "metadata": {},
      "outputs": [],
      "source": [
        "lr_model_age = LogisticRegression(random_state=RANDOM_STATE).fit(X_train_age, y_train_age)"
      ]
    },
    {
      "cell_type": "code",
      "execution_count": 158,
      "metadata": {},
      "outputs": [],
      "source": [
        "dec_tree_age = DecisionTreeClassifier(max_depth=3, random_state=RANDOM_STATE).fit(X_train_age, y_train_age)"
      ]
    },
    {
      "cell_type": "code",
      "execution_count": 159,
      "metadata": {},
      "outputs": [],
      "source": [
        "rand_forest_age = RandomForestClassifier(max_depth=2, n_estimators=70, random_state=RANDOM_STATE).fit(X_train_age, y_train_age)"
      ]
    },
    {
      "cell_type": "code",
      "execution_count": 160,
      "metadata": {},
      "outputs": [],
      "source": [
        "mlp_age = MLPClassifier(random_state=RANDOM_STATE, max_iter=30).fit(X_train_age, y_train_age)"
      ]
    },
    {
      "cell_type": "code",
      "execution_count": 161,
      "metadata": {},
      "outputs": [
        {
          "name": "stdout",
          "output_type": "stream",
          "text": [
            "Logistic Regression - balanced accuracy: 0.25030109713219245\n",
            "Logistic Regression -  accuracy: 0.38374871775928254\n",
            "Logistic Regression -  f1: 0.22275827227584943\n",
            "Logistic Regression -  recall: 0.38374871775928254\n",
            "Logistic Regression -  precision: 0.2965607810457074\n",
            "\n",
            "\n",
            "Decision Tree - balanced accuracy: 0.3276493911054477\n",
            "Decision Tree -  accuracy: 0.4275906945553431\n",
            "Decision Tree -  f1: 0.34401512167093795\n",
            "Decision Tree -  recall: 0.4275906945553431\n",
            "Decision Tree -  precision: 0.42840884995000117\n",
            "\n",
            "\n",
            "Random Forest - balanced accuracy: 0.27231845434845275\n",
            "Random Forest -  accuracy: 0.4137893800632525\n",
            "Random Forest -  f1: 0.34096310874910174\n",
            "Random Forest -  recall: 0.4137893800632525\n",
            "Random Forest -  precision: 0.32170537536166405\n",
            "\n",
            "\n",
            "CatBoost - balanced accuracy: 0.3433115298092019\n",
            "CatBoost -  accuracy: 0.46413277904541617\n",
            "CatBoost -  f1: 0.4504533817777557\n",
            "CatBoost -  recall: 0.46413277904541617\n",
            "CatBoost -  precision: 0.4673721526118814\n",
            "\n",
            "\n",
            "MLP - balanced accuracy: 0.25045804857439014\n",
            "MLP -  accuracy: 0.37519855195596763\n",
            "MLP -  f1: 0.30468233152431506\n",
            "MLP -  recall: 0.37519855195596763\n",
            "MLP -  precision: 0.28563254218329426\n",
            "\n",
            "\n"
          ]
        }
      ],
      "source": [
        "metrics_age(X_test_age, y_test_age)"
      ]
    },
    {
      "cell_type": "code",
      "execution_count": null,
      "metadata": {},
      "outputs": [],
      "source": [
        "metrics_age(X_train_age, y_train_age)"
      ]
    },
    {
      "cell_type": "markdown",
      "metadata": {},
      "source": [
        "## Saving models"
      ]
    },
    {
      "cell_type": "code",
      "execution_count": 163,
      "metadata": {},
      "outputs": [],
      "source": [
        "with open('catboost_model_age_new.pkl', 'wb') as file1:\n",
        "    pickle.dump(cat_boost_age, file1)\n",
        "\n",
        "with open('catboost_model_new.pkl', 'wb') as file2:\n",
        "    pickle.dump(cat_boost, file2)"
      ]
    },
    {
      "cell_type": "markdown",
      "metadata": {},
      "source": [
        "Если будет нужно - можно подгрузить модель:"
      ]
    },
    {
      "cell_type": "code",
      "execution_count": 94,
      "metadata": {},
      "outputs": [],
      "source": [
        "# with open('catboost_model_age.pkl', 'rb') as file:\n",
        "#     loaded_model = pickle.load(file)"
      ]
    },
    {
      "cell_type": "markdown",
      "metadata": {},
      "source": [
        "## Final score"
      ]
    },
    {
      "cell_type": "markdown",
      "metadata": {},
      "source": [
        "Получаем предсказание и для пола, и для возраста"
      ]
    },
    {
      "cell_type": "code",
      "execution_count": 164,
      "metadata": {},
      "outputs": [],
      "source": [
        "y_pred_age = cat_boost_age.predict(X_test_age)"
      ]
    },
    {
      "cell_type": "code",
      "execution_count": 165,
      "metadata": {},
      "outputs": [],
      "source": [
        "y_pred = cat_boost.predict(X_test)"
      ]
    },
    {
      "cell_type": "code",
      "execution_count": 166,
      "metadata": {},
      "outputs": [
        {
          "name": "stdout",
          "output_type": "stream",
          "text": [
            "Weighted F1 = 0.4505 \n",
            "Accuracy = 0.7343 \n",
            "Final Score = 0.5356 \n",
            "\n"
          ]
        }
      ],
      "source": [
        "f1_weighted = f1_score(y_test_age, y_pred_age, average='weighted')\n",
        "accuracy = accuracy_score(y_test, y_pred)\n",
        "\n",
        "final_score = 0.7 * f1_weighted + 0.3 * accuracy\n",
        "print(f'Weighted F1 = {f1_weighted:.4f} \\nAccuracy = {accuracy:.4f} \\nFinal Score = {final_score:.4f} \\n')"
      ]
    },
    {
      "cell_type": "markdown",
      "metadata": {},
      "source": [
        "Дальнейшая агрегация происходит при формировании итогового файла submission_csv в файле main.py"
      ]
    }
  ],
  "metadata": {
    "colab": {
      "provenance": []
    },
    "kernelspec": {
      "display_name": "Python 3",
      "name": "python3"
    },
    "language_info": {
      "codemirror_mode": {
        "name": "ipython",
        "version": 3
      },
      "file_extension": ".py",
      "mimetype": "text/x-python",
      "name": "python",
      "nbconvert_exporter": "python",
      "pygments_lexer": "ipython3",
      "version": "3.10.5"
    }
  },
  "nbformat": 4,
  "nbformat_minor": 0
}
